{
 "cells": [
  {
   "cell_type": "code",
   "execution_count": 2,
   "metadata": {},
   "outputs": [],
   "source": [
    "import os\n",
    "import numpy\n",
    "import time\n",
    "import glob\n",
    "import random\n",
    "\n",
    "from tqdm import tqdm\n",
    "from jellyfish import levenshtein_distance\n",
    "from tensorflow.keras.models import load_model\n",
    "\n",
    "%matplotlib inline\n",
    "from matplotlib import pyplot as plt"
   ]
  },
  {
   "cell_type": "code",
   "execution_count": 3,
   "metadata": {},
   "outputs": [],
   "source": [
    "from buffer_generator import generate_data_image"
   ]
  },
  {
   "cell_type": "code",
   "execution_count": 4,
   "metadata": {},
   "outputs": [
    {
     "name": "stderr",
     "output_type": "stream",
     "text": [
      "Using TensorFlow backend.\n"
     ]
    }
   ],
   "source": [
    "from pipeline_v2 import Pipeline\n",
    "pipeline = Pipeline()"
   ]
  },
  {
   "cell_type": "code",
   "execution_count": 5,
   "metadata": {},
   "outputs": [],
   "source": [
    "def load_labels(label_dir):\n",
    "    labels = []\n",
    "    with open(label_dir) as f:\n",
    "        labels = [label.rstrip() for label in f]\n",
    "        \n",
    "    return labels"
   ]
  },
  {
   "cell_type": "code",
   "execution_count": 6,
   "metadata": {},
   "outputs": [],
   "source": [
    "def test_single_char_samples(model):\n",
    "    model_numeric = load_model('models/{}.model'.format(model))\n",
    "    \n",
    "    x_test = numpy.load('tests/single_char_samples/x_test.npy')\n",
    "    y_test = numpy.load('tests/single_char_samples/y_test.npy')\n",
    "    \n",
    "    x_test = x_test/255.0\n",
    "    \n",
    "    loss, accuracy = model_numeric.evaluate(x_test, y_test)\n",
    "    print('Accuracy: {}%'.format(round(accuracy * 100, 2)))\n",
    "    print('Loss: ', round(loss, 4))"
   ]
  },
  {
   "cell_type": "code",
   "execution_count": 7,
   "metadata": {},
   "outputs": [],
   "source": [
    "def test_multi_char_samples(char_count, model, frameskip, verbose=False):\n",
    "    directory = 'tests/multi_char_samples/{}/'.format(char_count)\n",
    "    label_dir = directory + 'labels'\n",
    "    labels = load_labels(label_dir)\n",
    "    \n",
    "    total_time = 0\n",
    "    total_samples = len(glob.glob1(directory,'*.npy'))\n",
    "    \n",
    "    bi_score = 0\n",
    "    bi_true = 0\n",
    "    bi_false = []\n",
    "    \n",
    "    fwd_score = 0\n",
    "    fwd_true = 0\n",
    "    fwd_false = []\n",
    "    \n",
    "    for file in tqdm(os.listdir(directory)):\n",
    "        if file.endswith('.npy'):\n",
    "            file_dir = os.path.join(directory, file)\n",
    "            file_label = labels[int(file.split('.')[0].split('_')[0])]\n",
    "            pts = numpy.load(file_dir)\n",
    "            \n",
    "            start_time = time.time()\n",
    "            bi, fwd, _ = pipeline.predict_data(pts, model, frameskip)\n",
    "            elapsed_time = time.time() - start_time\n",
    "            total_time += elapsed_time\n",
    "            \n",
    "            #Calculating Levenshtein Distance for Accuracy Measurement\n",
    "            bi = ''.join([str(i) for i in bi])\n",
    "            bi_ld = levenshtein_distance(bi, file_label)\n",
    "            maxlen = len(bi) if len(bi) > len(file_label) else len(file_label)\n",
    "            bi_score += ((maxlen - bi_ld)/maxlen)\n",
    "            \n",
    "            fwd = ''.join([str(i) for i in fwd])\n",
    "            fwd_ld = levenshtein_distance(fwd, file_label)\n",
    "            maxlen = len(fwd) if len(fwd) > len(file_label) else len(file_label)\n",
    "            fwd_score += ((maxlen - fwd_ld)/maxlen)\n",
    "            \n",
    "            if bi == file_label:\n",
    "                bi_true += 1\n",
    "            else:\n",
    "                bi_false.append({'File': file, 'Actual': file_label, 'Predicted': bi, 'Score': bi_ld})\n",
    "            \n",
    "            if fwd == file_label:\n",
    "                fwd_true += 1\n",
    "            else:\n",
    "                fwd_false.append({'File': file, 'Actual': file_label, 'Predicted': fwd, 'Score': fwd_ld})\n",
    "    \n",
    "    time_per_sample = total_time/total_samples\n",
    "    bi_acc = round((bi_score/total_samples) * 100, 2)\n",
    "    fwd_acc = round((fwd_score/total_samples) * 100, 2)\n",
    "    \n",
    "    #Displaying Results\n",
    "    print('-----------------------------------')\n",
    "    print('RESULTS: {} Character || Model {}'.format(char_count, model))\n",
    "    print('-----------------------------------')\n",
    "    print('Total Samples: ', total_samples)\n",
    "    print('Forward Accuracy: {}%'.format(fwd_acc))\n",
    "    print('Forward True: ', fwd_true)\n",
    "    print('Bi-directional Accuracy: {}%'.format(bi_acc))\n",
    "    print('Bi-directional True: ', bi_true)\n",
    "    print('Total Time: {}s'.format(round(total_time, 2)))\n",
    "    print('Time Per Sample: {}s'.format(round(time_per_sample, 2)))\n",
    "    \n",
    "    if verbose:\n",
    "        f1, f2, f3, f4, b1, b2, b3, b4 = 0, 0, 0, 0, 0, 0, 0, 0\n",
    "        \n",
    "        print('')\n",
    "        print('-----------------------------------')\n",
    "        print('ERROR ANALYSIS')\n",
    "        print('-----------------------------------')\n",
    "        \n",
    "        print('')\n",
    "        print('Forward Scan Errors')\n",
    "        print('-----------------------------------')\n",
    "        for i in fwd_false:\n",
    "            f, a, p, s = i['File'], i['Actual'], i['Predicted'], i['Score']\n",
    "            \n",
    "            if s == 1:\n",
    "                f1 += 1\n",
    "            elif s == 2:\n",
    "                f2 += 1\n",
    "            elif s == 3:\n",
    "                f3 += 1\n",
    "            elif s >= 4:\n",
    "                f4 += 1\n",
    "            \n",
    "            print('File: {}\\t\\tActual: {}\\tPredicted: {}\\tScore: {}'.format(f, a, p, s))\n",
    "        print('-----------------------------------')\n",
    "        print('L-Distance => 1: {}\\t2: {}\\t3: {}\\t4+: {}'.format(f1, f2, f3, f4))\n",
    "        \n",
    "        print('')\n",
    "        print('Bi-directional Scan Errors')\n",
    "        print('-----------------------------------')\n",
    "        for i in bi_false:\n",
    "            f, a, p, s = i['File'], i['Actual'], i['Predicted'], i['Score']\n",
    "            \n",
    "            if s == 1:\n",
    "                b1 += 1\n",
    "            elif s == 2:\n",
    "                b2 += 1\n",
    "            elif s == 3:\n",
    "                b3 += 1\n",
    "            elif s >= 4:\n",
    "                b4 += 1\n",
    "            \n",
    "            print('File: {}\\t\\tActual: {}\\tPredicted: {}\\tScore: {}'.format(f, a, p, s))\n",
    "        print('-----------------------------------')\n",
    "        print('L-Distance => 1: {}\\t2: {}\\t3: {}\\t4+: {}'.format(b1, b2, b3, b4))"
   ]
  },
  {
   "cell_type": "code",
   "execution_count": 8,
   "metadata": {},
   "outputs": [],
   "source": [
    "def display_samples(char_count, columns=5, rows=2):\n",
    "    directory = 'tests/multi_char_samples/{}/'.format(char_count)\n",
    "    disp_samples = rows * columns\n",
    "    samples = []\n",
    "    while len(samples) < disp_samples:\n",
    "        smp = random.choice(os.listdir(directory))\n",
    "        if smp.endswith('.npy') and smp not in samples:\n",
    "            samples.append(smp)\n",
    "\n",
    "    plt.figure(figsize=(20, 10))\n",
    "    for i, smp in enumerate(samples):\n",
    "        plt.subplot(disp_samples/columns, columns, i + 1)\n",
    "        pts = numpy.load(os.path.join(directory, smp))\n",
    "        img = generate_data_image(pts)\n",
    "        plt.imshow(img)\n",
    "        plt.title(smp)"
   ]
  },
  {
   "cell_type": "markdown",
   "metadata": {},
   "source": [
    "<h1>Experimentation Tests</h1>\n",
    "<h2>1. Single Character Tests</h2>"
   ]
  },
  {
   "cell_type": "code",
   "execution_count": 8,
   "metadata": {},
   "outputs": [
    {
     "name": "stdout",
     "output_type": "stream",
     "text": [
      "2000/2000 [==============================] - 1s 744us/sample - loss: 0.6558 - acc: 0.9140\n",
      "Accuracy: 91.4%\n",
      "Loss:  0.6558\n"
     ]
    }
   ],
   "source": [
    "test_single_char_samples('TS-A')"
   ]
  },
  {
   "cell_type": "code",
   "execution_count": 9,
   "metadata": {},
   "outputs": [
    {
     "name": "stdout",
     "output_type": "stream",
     "text": [
      "2000/2000 [==============================] - 2s 846us/sample - loss: 0.2252 - acc: 0.9375\n",
      "Accuracy: 93.75%\n",
      "Loss:  0.2252\n"
     ]
    }
   ],
   "source": [
    "test_single_char_samples('TS-B')"
   ]
  },
  {
   "cell_type": "code",
   "execution_count": 10,
   "metadata": {},
   "outputs": [
    {
     "name": "stdout",
     "output_type": "stream",
     "text": [
      "2000/2000 [==============================] - 2s 760us/sample - loss: 0.1243 - acc: 0.9640\n",
      "Accuracy: 96.4%\n",
      "Loss:  0.1243\n"
     ]
    }
   ],
   "source": [
    "test_single_char_samples('TS-C')"
   ]
  },
  {
   "cell_type": "code",
   "execution_count": 11,
   "metadata": {},
   "outputs": [
    {
     "name": "stdout",
     "output_type": "stream",
     "text": [
      "2000/2000 [==============================] - 2s 871us/sample - loss: 0.0478 - acc: 0.9875\n",
      "Accuracy: 98.75%\n",
      "Loss:  0.0478\n"
     ]
    }
   ],
   "source": [
    "test_single_char_samples('TS-D')"
   ]
  },
  {
   "cell_type": "markdown",
   "metadata": {},
   "source": [
    "<h2>2. Multi Character Tests</h2>\n",
    "<h3>2 Character Samples</h3>"
   ]
  },
  {
   "cell_type": "code",
   "execution_count": 12,
   "metadata": {},
   "outputs": [
    {
     "data": {
      "image/png": "[encoded data removed]",
      "text/plain": [
       "<Figure size 1440x720 with 10 Axes>"
      ]
     },
     "metadata": {
      "needs_background": "light"
     },
     "output_type": "display_data"
    }
   ],
   "source": [
    "display_samples(2)"
   ]
  },
  {
   "cell_type": "code",
   "execution_count": 13,
   "metadata": {},
   "outputs": [
    {
     "name": "stderr",
     "output_type": "stream",
     "text": [
      "100%|██████████| 101/101 [01:39<00:00,  1.28it/s]"
     ]
    },
    {
     "name": "stdout",
     "output_type": "stream",
     "text": [
      "-----------------------------------\n",
      "RESULTS: 2 Character || Model TS-A\n",
      "-----------------------------------\n",
      "Total Samples:  100\n",
      "Forward Accuracy: 66.0%\n",
      "Forward True:  42\n",
      "Bi-directional Accuracy: 78.0%\n",
      "Bi-directional True:  60\n",
      "Total Time: 99.89s\n",
      "Time Per Sample: 1.0s\n",
      "\n",
      "-----------------------------------\n",
      "ERROR ANALYSIS\n",
      "-----------------------------------\n",
      "\n",
      "Forward Scan Errors\n",
      "-----------------------------------\n",
      "File: 57_06.npy\t\tActual: 06\tPredicted: 08\tScore: 1\n",
      "File: 94_34.npy\t\tActual: 34\tPredicted: 30\tScore: 1\n",
      "File: 27_81.npy\t\tActual: 81\tPredicted: 8\tScore: 1\n",
      "File: 34_13.npy\t\tActual: 13\tPredicted: 3\tScore: 1\n",
      "File: 37_64.npy\t\tActual: 64\tPredicted: 8\tScore: 2\n",
      "File: 8_07.npy\t\tActual: 07\tPredicted: 0\tScore: 1\n",
      "File: 19_62.npy\t\tActual: 62\tPredicted: 82\tScore: 1\n",
      "File: 35_17.npy\t\tActual: 17\tPredicted: 1\tScore: 1\n",
      "File: 33_29.npy\t\tActual: 29\tPredicted: 3\tScore: 2\n",
      "File: 0_43.npy\t\tActual: 43\tPredicted: 48\tScore: 1\n",
      "File: 71_21.npy\t\tActual: 21\tPredicted: 23\tScore: 1\n",
      "File: 10_79.npy\t\tActual: 79\tPredicted: 9\tScore: 1\n",
      "File: 85_42.npy\t\tActual: 42\tPredicted: 4\tScore: 1\n",
      "File: 54_78.npy\t\tActual: 78\tPredicted: 8\tScore: 1\n",
      "File: 62_47.npy\t\tActual: 47\tPredicted: 4\tScore: 1\n",
      "File: 80_65.npy\t\tActual: 65\tPredicted: 55\tScore: 1\n",
      "File: 11_27.npy\t\tActual: 27\tPredicted: 2\tScore: 1\n",
      "File: 42_35.npy\t\tActual: 35\tPredicted: 38\tScore: 1\n",
      "File: 76_87.npy\t\tActual: 87\tPredicted: 8\tScore: 1\n",
      "File: 87_59.npy\t\tActual: 59\tPredicted: 79\tScore: 1\n",
      "File: 92_75.npy\t\tActual: 75\tPredicted: 5\tScore: 1\n",
      "File: 81_91.npy\t\tActual: 91\tPredicted: 9\tScore: 1\n",
      "File: 53_12.npy\t\tActual: 12\tPredicted: 8\tScore: 2\n",
      "File: 6_55.npy\t\tActual: 55\tPredicted: 58\tScore: 1\n",
      "File: 58_00.npy\t\tActual: 00\tPredicted: 0\tScore: 1\n",
      "File: 45_37.npy\t\tActual: 37\tPredicted: 3\tScore: 1\n",
      "File: 28_52.npy\t\tActual: 52\tPredicted: 72\tScore: 1\n",
      "File: 7_15.npy\t\tActual: 15\tPredicted: 8\tScore: 2\n",
      "File: 75_86.npy\t\tActual: 86\tPredicted: 8\tScore: 1\n",
      "File: 55_18.npy\t\tActual: 18\tPredicted: \tScore: 2\n",
      "File: 50_22.npy\t\tActual: 22\tPredicted: 2\tScore: 1\n",
      "File: 43_74.npy\t\tActual: 74\tPredicted: 8\tScore: 2\n",
      "File: 93_36.npy\t\tActual: 36\tPredicted: 3\tScore: 1\n",
      "File: 22_73.npy\t\tActual: 73\tPredicted: 3\tScore: 1\n",
      "File: 17_77.npy\t\tActual: 77\tPredicted: 7\tScore: 1\n",
      "File: 59_04.npy\t\tActual: 04\tPredicted: 0\tScore: 1\n",
      "File: 95_33.npy\t\tActual: 33\tPredicted: 3\tScore: 1\n",
      "File: 89_19.npy\t\tActual: 19\tPredicted: 3\tScore: 2\n",
      "File: 26_72.npy\t\tActual: 72\tPredicted: 2\tScore: 1\n",
      "File: 67_40.npy\t\tActual: 40\tPredicted: 4\tScore: 1\n",
      "File: 52_39.npy\t\tActual: 39\tPredicted: 3\tScore: 1\n",
      "File: 78_51.npy\t\tActual: 51\tPredicted: 58\tScore: 1\n",
      "File: 90_45.npy\t\tActual: 45\tPredicted: 48\tScore: 1\n",
      "File: 46_67.npy\t\tActual: 67\tPredicted: \tScore: 2\n",
      "File: 77_09.npy\t\tActual: 09\tPredicted: 89\tScore: 1\n",
      "File: 72_16.npy\t\tActual: 16\tPredicted: \tScore: 2\n",
      "File: 3_97.npy\t\tActual: 97\tPredicted: 98\tScore: 1\n",
      "File: 30_56.npy\t\tActual: 56\tPredicted: 5\tScore: 1\n",
      "File: 41_10.npy\t\tActual: 10\tPredicted: 1\tScore: 1\n",
      "File: 61_71.npy\t\tActual: 71\tPredicted: 1\tScore: 1\n",
      "File: 51_57.npy\t\tActual: 57\tPredicted: 9\tScore: 2\n",
      "File: 74_70.npy\t\tActual: 70\tPredicted: 80\tScore: 1\n",
      "File: 99_01.npy\t\tActual: 01\tPredicted: 81\tScore: 1\n",
      "File: 20_11.npy\t\tActual: 11\tPredicted: 1\tScore: 1\n",
      "File: 5_44.npy\t\tActual: 44\tPredicted: 40\tScore: 1\n",
      "File: 64_30.npy\t\tActual: 30\tPredicted: 3\tScore: 1\n",
      "File: 16_54.npy\t\tActual: 54\tPredicted: 5\tScore: 1\n",
      "File: 18_26.npy\t\tActual: 26\tPredicted: 2\tScore: 1\n",
      "-----------------------------------\n",
      "L-Distance => 1: 48\t2: 10\t3: 0\t4+: 0\n",
      "\n",
      "Bi-directional Scan Errors\n",
      "-----------------------------------\n",
      "File: 27_81.npy\t\tActual: 81\tPredicted: 8\tScore: 1\n",
      "File: 37_64.npy\t\tActual: 64\tPredicted: 84\tScore: 1\n",
      "File: 8_07.npy\t\tActual: 07\tPredicted: 0\tScore: 1\n",
      "File: 19_62.npy\t\tActual: 62\tPredicted: 82\tScore: 1\n",
      "File: 33_29.npy\t\tActual: 29\tPredicted: 9\tScore: 1\n",
      "File: 71_21.npy\t\tActual: 21\tPredicted: 23\tScore: 1\n",
      "File: 10_79.npy\t\tActual: 79\tPredicted: 9\tScore: 1\n",
      "File: 85_42.npy\t\tActual: 42\tPredicted: 4\tScore: 1\n",
      "File: 54_78.npy\t\tActual: 78\tPredicted: 3\tScore: 2\n",
      "File: 80_65.npy\t\tActual: 65\tPredicted: 55\tScore: 1\n",
      "File: 11_27.npy\t\tActual: 27\tPredicted: 28\tScore: 1\n",
      "File: 76_87.npy\t\tActual: 87\tPredicted: 88\tScore: 1\n",
      "File: 87_59.npy\t\tActual: 59\tPredicted: 79\tScore: 1\n",
      "File: 92_75.npy\t\tActual: 75\tPredicted: 5\tScore: 1\n",
      "File: 81_91.npy\t\tActual: 91\tPredicted: 9\tScore: 1\n",
      "File: 53_12.npy\t\tActual: 12\tPredicted: 82\tScore: 1\n",
      "File: 45_37.npy\t\tActual: 37\tPredicted: 38\tScore: 1\n",
      "File: 28_52.npy\t\tActual: 52\tPredicted: 72\tScore: 1\n",
      "File: 55_18.npy\t\tActual: 18\tPredicted: 3\tScore: 2\n",
      "File: 43_74.npy\t\tActual: 74\tPredicted: 84\tScore: 1\n",
      "File: 22_73.npy\t\tActual: 73\tPredicted: 3\tScore: 1\n",
      "File: 24_98.npy\t\tActual: 98\tPredicted: 93\tScore: 1\n",
      "File: 15_41.npy\t\tActual: 41\tPredicted: 4\tScore: 1\n",
      "File: 17_77.npy\t\tActual: 77\tPredicted: 7\tScore: 1\n",
      "File: 12_84.npy\t\tActual: 84\tPredicted: 80\tScore: 1\n",
      "File: 89_19.npy\t\tActual: 19\tPredicted: 9\tScore: 1\n",
      "File: 26_72.npy\t\tActual: 72\tPredicted: 2\tScore: 1\n",
      "File: 56_88.npy\t\tActual: 88\tPredicted: 83\tScore: 1\n",
      "File: 73_08.npy\t\tActual: 08\tPredicted: 03\tScore: 1\n",
      "File: 78_51.npy\t\tActual: 51\tPredicted: 58\tScore: 1\n",
      "File: 46_67.npy\t\tActual: 67\tPredicted: 2\tScore: 2\n",
      "File: 77_09.npy\t\tActual: 09\tPredicted: 89\tScore: 1\n",
      "File: 13_66.npy\t\tActual: 66\tPredicted: 68\tScore: 1\n",
      "File: 72_16.npy\t\tActual: 16\tPredicted: 6\tScore: 1\n",
      "File: 3_97.npy\t\tActual: 97\tPredicted: 98\tScore: 1\n",
      "File: 61_71.npy\t\tActual: 71\tPredicted: 1\tScore: 1\n",
      "File: 51_57.npy\t\tActual: 57\tPredicted: 9\tScore: 2\n",
      "File: 74_70.npy\t\tActual: 70\tPredicted: 80\tScore: 1\n",
      "File: 99_01.npy\t\tActual: 01\tPredicted: 81\tScore: 1\n",
      "File: 20_11.npy\t\tActual: 11\tPredicted: 1\tScore: 1\n",
      "-----------------------------------\n",
      "L-Distance => 1: 36\t2: 4\t3: 0\t4+: 0\n"
     ]
    },
    {
     "name": "stderr",
     "output_type": "stream",
     "text": [
      "\n"
     ]
    }
   ],
   "source": [
    "test_multi_char_samples(2, 'TS-A', frameskip=4, verbose=True)"
   ]
  },
  {
   "cell_type": "code",
   "execution_count": 14,
   "metadata": {
    "scrolled": true
   },
   "outputs": [
    {
     "name": "stderr",
     "output_type": "stream",
     "text": [
      "100%|██████████| 101/101 [01:36<00:00,  1.53it/s]"
     ]
    },
    {
     "name": "stdout",
     "output_type": "stream",
     "text": [
      "-----------------------------------\n",
      "RESULTS: 2 Character || Model TS-B\n",
      "-----------------------------------\n",
      "Total Samples:  100\n",
      "Forward Accuracy: 80.5%\n",
      "Forward True:  67\n",
      "Bi-directional Accuracy: 91.17%\n",
      "Bi-directional True:  84\n",
      "Total Time: 96.3s\n",
      "Time Per Sample: 0.96s\n",
      "\n",
      "-----------------------------------\n",
      "ERROR ANALYSIS\n",
      "-----------------------------------\n",
      "\n",
      "Forward Scan Errors\n",
      "-----------------------------------\n",
      "File: 27_81.npy\t\tActual: 81\tPredicted: 8\tScore: 1\n",
      "File: 34_13.npy\t\tActual: 13\tPredicted: 8\tScore: 2\n",
      "File: 35_17.npy\t\tActual: 17\tPredicted: 5\tScore: 2\n",
      "File: 33_29.npy\t\tActual: 29\tPredicted: 9\tScore: 1\n",
      "File: 0_43.npy\t\tActual: 43\tPredicted: 48\tScore: 1\n",
      "File: 85_42.npy\t\tActual: 42\tPredicted: 4\tScore: 1\n",
      "File: 54_78.npy\t\tActual: 78\tPredicted: 7\tScore: 1\n",
      "File: 42_35.npy\t\tActual: 35\tPredicted: 5\tScore: 1\n",
      "File: 76_87.npy\t\tActual: 87\tPredicted: 81\tScore: 1\n",
      "File: 53_12.npy\t\tActual: 12\tPredicted: 8\tScore: 2\n",
      "File: 58_00.npy\t\tActual: 00\tPredicted: 0\tScore: 1\n",
      "File: 75_86.npy\t\tActual: 86\tPredicted: 8\tScore: 1\n",
      "File: 55_18.npy\t\tActual: 18\tPredicted: \tScore: 2\n",
      "File: 50_22.npy\t\tActual: 22\tPredicted: 2\tScore: 1\n",
      "File: 43_74.npy\t\tActual: 74\tPredicted: 0\tScore: 2\n",
      "File: 93_36.npy\t\tActual: 36\tPredicted: 3\tScore: 1\n",
      "File: 17_77.npy\t\tActual: 77\tPredicted: 7\tScore: 1\n",
      "File: 59_04.npy\t\tActual: 04\tPredicted: 0\tScore: 1\n",
      "File: 12_84.npy\t\tActual: 84\tPredicted: 8\tScore: 1\n",
      "File: 95_33.npy\t\tActual: 33\tPredicted: 3\tScore: 1\n",
      "File: 67_40.npy\t\tActual: 40\tPredicted: 4\tScore: 1\n",
      "File: 52_39.npy\t\tActual: 39\tPredicted: 3\tScore: 1\n",
      "File: 78_51.npy\t\tActual: 51\tPredicted: 58\tScore: 1\n",
      "File: 46_67.npy\t\tActual: 67\tPredicted: 7\tScore: 1\n",
      "File: 77_09.npy\t\tActual: 09\tPredicted: 0\tScore: 1\n",
      "File: 13_66.npy\t\tActual: 66\tPredicted: \tScore: 2\n",
      "File: 72_16.npy\t\tActual: 16\tPredicted: 1\tScore: 1\n",
      "File: 30_56.npy\t\tActual: 56\tPredicted: 5\tScore: 1\n",
      "File: 41_10.npy\t\tActual: 10\tPredicted: 1\tScore: 1\n",
      "File: 61_71.npy\t\tActual: 71\tPredicted: 1\tScore: 1\n",
      "File: 64_30.npy\t\tActual: 30\tPredicted: 3\tScore: 1\n",
      "File: 16_54.npy\t\tActual: 54\tPredicted: 5\tScore: 1\n",
      "File: 18_26.npy\t\tActual: 26\tPredicted: 2\tScore: 1\n",
      "-----------------------------------\n",
      "L-Distance => 1: 27\t2: 6\t3: 0\t4+: 0\n",
      "\n",
      "Bi-directional Scan Errors\n",
      "-----------------------------------\n",
      "File: 35_17.npy\t\tActual: 17\tPredicted: \tScore: 2\n",
      "File: 33_29.npy\t\tActual: 29\tPredicted: 9\tScore: 1\n",
      "File: 71_21.npy\t\tActual: 21\tPredicted: 2\tScore: 1\n",
      "File: 85_42.npy\t\tActual: 42\tPredicted: 4\tScore: 1\n",
      "File: 42_35.npy\t\tActual: 35\tPredicted: 5\tScore: 1\n",
      "File: 81_91.npy\t\tActual: 91\tPredicted: 9\tScore: 1\n",
      "File: 53_12.npy\t\tActual: 12\tPredicted: 82\tScore: 1\n",
      "File: 55_18.npy\t\tActual: 18\tPredicted: \tScore: 2\n",
      "File: 43_74.npy\t\tActual: 74\tPredicted: 4\tScore: 1\n",
      "File: 17_77.npy\t\tActual: 77\tPredicted: 7\tScore: 1\n",
      "File: 12_84.npy\t\tActual: 84\tPredicted: 80\tScore: 1\n",
      "File: 52_39.npy\t\tActual: 39\tPredicted: 3\tScore: 1\n",
      "File: 78_51.npy\t\tActual: 51\tPredicted: 58\tScore: 1\n",
      "File: 46_67.npy\t\tActual: 67\tPredicted: 7\tScore: 1\n",
      "File: 61_71.npy\t\tActual: 71\tPredicted: 81\tScore: 1\n",
      "File: 99_01.npy\t\tActual: 01\tPredicted: 041\tScore: 1\n",
      "-----------------------------------\n",
      "L-Distance => 1: 14\t2: 2\t3: 0\t4+: 0\n"
     ]
    },
    {
     "name": "stderr",
     "output_type": "stream",
     "text": [
      "\n"
     ]
    }
   ],
   "source": [
    "test_multi_char_samples(2, 'TS-B', frameskip=4, verbose=True)"
   ]
  },
  {
   "cell_type": "code",
   "execution_count": 15,
   "metadata": {
    "scrolled": true
   },
   "outputs": [
    {
     "name": "stderr",
     "output_type": "stream",
     "text": [
      "100%|██████████| 101/101 [01:31<00:00,  1.46it/s]"
     ]
    },
    {
     "name": "stdout",
     "output_type": "stream",
     "text": [
      "-----------------------------------\n",
      "RESULTS: 2 Character || Model TS-C\n",
      "-----------------------------------\n",
      "Total Samples:  100\n",
      "Forward Accuracy: 82.0%\n",
      "Forward True:  67\n",
      "Bi-directional Accuracy: 93.0%\n",
      "Bi-directional True:  87\n",
      "Total Time: 91.37s\n",
      "Time Per Sample: 0.91s\n",
      "\n",
      "-----------------------------------\n",
      "ERROR ANALYSIS\n",
      "-----------------------------------\n",
      "\n",
      "Forward Scan Errors\n",
      "-----------------------------------\n",
      "File: 94_34.npy\t\tActual: 34\tPredicted: 30\tScore: 1\n",
      "File: 27_81.npy\t\tActual: 81\tPredicted: 8\tScore: 1\n",
      "File: 31_95.npy\t\tActual: 95\tPredicted: 96\tScore: 1\n",
      "File: 35_17.npy\t\tActual: 17\tPredicted: 1\tScore: 1\n",
      "File: 33_29.npy\t\tActual: 29\tPredicted: 9\tScore: 1\n",
      "File: 0_43.npy\t\tActual: 43\tPredicted: 4\tScore: 1\n",
      "File: 71_21.npy\t\tActual: 21\tPredicted: 4\tScore: 2\n",
      "File: 10_79.npy\t\tActual: 79\tPredicted: 89\tScore: 1\n",
      "File: 85_42.npy\t\tActual: 42\tPredicted: 4\tScore: 1\n",
      "File: 54_78.npy\t\tActual: 78\tPredicted: 7\tScore: 1\n",
      "File: 62_47.npy\t\tActual: 47\tPredicted: 9\tScore: 2\n",
      "File: 42_35.npy\t\tActual: 35\tPredicted: 36\tScore: 1\n",
      "File: 76_87.npy\t\tActual: 87\tPredicted: 8\tScore: 1\n",
      "File: 53_12.npy\t\tActual: 12\tPredicted: 16\tScore: 1\n",
      "File: 6_55.npy\t\tActual: 55\tPredicted: 58\tScore: 1\n",
      "File: 58_00.npy\t\tActual: 00\tPredicted: 0\tScore: 1\n",
      "File: 7_15.npy\t\tActual: 15\tPredicted: 16\tScore: 1\n",
      "File: 2_38.npy\t\tActual: 38\tPredicted: 36\tScore: 1\n",
      "File: 50_22.npy\t\tActual: 22\tPredicted: 2\tScore: 1\n",
      "File: 43_74.npy\t\tActual: 74\tPredicted: 7\tScore: 1\n",
      "File: 17_77.npy\t\tActual: 77\tPredicted: 7\tScore: 1\n",
      "File: 59_04.npy\t\tActual: 04\tPredicted: 0\tScore: 1\n",
      "File: 12_84.npy\t\tActual: 84\tPredicted: 8\tScore: 1\n",
      "File: 89_19.npy\t\tActual: 19\tPredicted: 18\tScore: 1\n",
      "File: 67_40.npy\t\tActual: 40\tPredicted: 4\tScore: 1\n",
      "File: 56_88.npy\t\tActual: 88\tPredicted: 65\tScore: 2\n",
      "File: 78_51.npy\t\tActual: 51\tPredicted: 5\tScore: 1\n",
      "File: 46_67.npy\t\tActual: 67\tPredicted: 6\tScore: 1\n",
      "File: 41_10.npy\t\tActual: 10\tPredicted: 1\tScore: 1\n",
      "File: 74_70.npy\t\tActual: 70\tPredicted: 0\tScore: 1\n",
      "File: 5_44.npy\t\tActual: 44\tPredicted: 41\tScore: 1\n",
      "File: 64_30.npy\t\tActual: 30\tPredicted: 3\tScore: 1\n",
      "File: 16_54.npy\t\tActual: 54\tPredicted: 5\tScore: 1\n",
      "-----------------------------------\n",
      "L-Distance => 1: 30\t2: 3\t3: 0\t4+: 0\n",
      "\n",
      "Bi-directional Scan Errors\n",
      "-----------------------------------\n",
      "File: 33_29.npy\t\tActual: 29\tPredicted: 9\tScore: 1\n",
      "File: 71_21.npy\t\tActual: 21\tPredicted: 4\tScore: 2\n",
      "File: 10_79.npy\t\tActual: 79\tPredicted: 89\tScore: 1\n",
      "File: 85_42.npy\t\tActual: 42\tPredicted: 4\tScore: 1\n",
      "File: 62_47.npy\t\tActual: 47\tPredicted: 97\tScore: 1\n",
      "File: 17_77.npy\t\tActual: 77\tPredicted: 7\tScore: 1\n",
      "File: 59_04.npy\t\tActual: 04\tPredicted: 07\tScore: 1\n",
      "File: 12_84.npy\t\tActual: 84\tPredicted: 8\tScore: 1\n",
      "File: 56_88.npy\t\tActual: 88\tPredicted: 68\tScore: 1\n",
      "File: 90_45.npy\t\tActual: 45\tPredicted: 46\tScore: 1\n",
      "File: 51_57.npy\t\tActual: 57\tPredicted: 56\tScore: 1\n",
      "File: 74_70.npy\t\tActual: 70\tPredicted: 80\tScore: 1\n",
      "File: 98_31.npy\t\tActual: 31\tPredicted: 36\tScore: 1\n",
      "-----------------------------------\n",
      "L-Distance => 1: 12\t2: 1\t3: 0\t4+: 0\n"
     ]
    },
    {
     "name": "stderr",
     "output_type": "stream",
     "text": [
      "\n"
     ]
    }
   ],
   "source": [
    "test_multi_char_samples(2, 'TS-C', frameskip=4, verbose=True)"
   ]
  },
  {
   "cell_type": "code",
   "execution_count": 16,
   "metadata": {
    "scrolled": true
   },
   "outputs": [
    {
     "name": "stderr",
     "output_type": "stream",
     "text": [
      "100%|██████████| 101/101 [01:26<00:00,  1.61it/s]"
     ]
    },
    {
     "name": "stdout",
     "output_type": "stream",
     "text": [
      "-----------------------------------\n",
      "RESULTS: 2 Character || Model TS-D\n",
      "-----------------------------------\n",
      "Total Samples:  100\n",
      "Forward Accuracy: 84.5%\n",
      "Forward True:  69\n",
      "Bi-directional Accuracy: 96.0%\n",
      "Bi-directional True:  92\n",
      "Total Time: 86.42s\n",
      "Time Per Sample: 0.86s\n",
      "\n",
      "-----------------------------------\n",
      "ERROR ANALYSIS\n",
      "-----------------------------------\n",
      "\n",
      "Forward Scan Errors\n",
      "-----------------------------------\n",
      "File: 94_34.npy\t\tActual: 34\tPredicted: 30\tScore: 1\n",
      "File: 27_81.npy\t\tActual: 81\tPredicted: 8\tScore: 1\n",
      "File: 31_95.npy\t\tActual: 95\tPredicted: 94\tScore: 1\n",
      "File: 35_17.npy\t\tActual: 17\tPredicted: 1\tScore: 1\n",
      "File: 33_29.npy\t\tActual: 29\tPredicted: 9\tScore: 1\n",
      "File: 0_43.npy\t\tActual: 43\tPredicted: 4\tScore: 1\n",
      "File: 85_42.npy\t\tActual: 42\tPredicted: 4\tScore: 1\n",
      "File: 25_46.npy\t\tActual: 46\tPredicted: 6\tScore: 1\n",
      "File: 6_55.npy\t\tActual: 55\tPredicted: 58\tScore: 1\n",
      "File: 58_00.npy\t\tActual: 00\tPredicted: 0\tScore: 1\n",
      "File: 75_86.npy\t\tActual: 86\tPredicted: 8\tScore: 1\n",
      "File: 50_22.npy\t\tActual: 22\tPredicted: 2\tScore: 1\n",
      "File: 43_74.npy\t\tActual: 74\tPredicted: 7\tScore: 1\n",
      "File: 93_36.npy\t\tActual: 36\tPredicted: 3\tScore: 1\n",
      "File: 17_77.npy\t\tActual: 77\tPredicted: 7\tScore: 1\n",
      "File: 59_04.npy\t\tActual: 04\tPredicted: 0\tScore: 1\n",
      "File: 12_84.npy\t\tActual: 84\tPredicted: 8\tScore: 1\n",
      "File: 89_19.npy\t\tActual: 19\tPredicted: 18\tScore: 1\n",
      "File: 67_40.npy\t\tActual: 40\tPredicted: 4\tScore: 1\n",
      "File: 52_39.npy\t\tActual: 39\tPredicted: 3\tScore: 1\n",
      "File: 78_51.npy\t\tActual: 51\tPredicted: 5\tScore: 1\n",
      "File: 1_48.npy\t\tActual: 48\tPredicted: 46\tScore: 1\n",
      "File: 46_67.npy\t\tActual: 67\tPredicted: 7\tScore: 1\n",
      "File: 77_09.npy\t\tActual: 09\tPredicted: 0\tScore: 1\n",
      "File: 72_16.npy\t\tActual: 16\tPredicted: 1\tScore: 1\n",
      "File: 30_56.npy\t\tActual: 56\tPredicted: 5\tScore: 1\n",
      "File: 41_10.npy\t\tActual: 10\tPredicted: 1\tScore: 1\n",
      "File: 5_44.npy\t\tActual: 44\tPredicted: 41\tScore: 1\n",
      "File: 64_30.npy\t\tActual: 30\tPredicted: 3\tScore: 1\n",
      "File: 16_54.npy\t\tActual: 54\tPredicted: 5\tScore: 1\n",
      "File: 18_26.npy\t\tActual: 26\tPredicted: 2\tScore: 1\n",
      "-----------------------------------\n",
      "L-Distance => 1: 31\t2: 0\t3: 0\t4+: 0\n",
      "\n",
      "Bi-directional Scan Errors\n",
      "-----------------------------------\n",
      "File: 33_29.npy\t\tActual: 29\tPredicted: 9\tScore: 1\n",
      "File: 85_42.npy\t\tActual: 42\tPredicted: 4\tScore: 1\n",
      "File: 76_87.npy\t\tActual: 87\tPredicted: 84\tScore: 1\n",
      "File: 28_52.npy\t\tActual: 52\tPredicted: 5\tScore: 1\n",
      "File: 17_77.npy\t\tActual: 77\tPredicted: 7\tScore: 1\n",
      "File: 12_84.npy\t\tActual: 84\tPredicted: 80\tScore: 1\n",
      "File: 78_51.npy\t\tActual: 51\tPredicted: 5\tScore: 1\n",
      "File: 90_45.npy\t\tActual: 45\tPredicted: 46\tScore: 1\n",
      "-----------------------------------\n",
      "L-Distance => 1: 8\t2: 0\t3: 0\t4+: 0\n"
     ]
    },
    {
     "name": "stderr",
     "output_type": "stream",
     "text": [
      "\n"
     ]
    }
   ],
   "source": [
    "test_multi_char_samples(2, 'TS-D', frameskip=4, verbose=True)"
   ]
  },
  {
   "cell_type": "markdown",
   "metadata": {},
   "source": [
    "<h3>3 Character Samples</h3>"
   ]
  },
  {
   "cell_type": "code",
   "execution_count": 17,
   "metadata": {},
   "outputs": [
    {
     "data": {
      "image/png": "[encoded data removed]",
      "text/plain": [
       "<Figure size 1440x720 with 10 Axes>"
      ]
     },
     "metadata": {
      "needs_background": "light"
     },
     "output_type": "display_data"
    }
   ],
   "source": [
    "display_samples(3)"
   ]
  },
  {
   "cell_type": "code",
   "execution_count": 18,
   "metadata": {},
   "outputs": [
    {
     "name": "stderr",
     "output_type": "stream",
     "text": [
      "100%|██████████| 101/101 [03:25<00:00,  1.59s/it]"
     ]
    },
    {
     "name": "stdout",
     "output_type": "stream",
     "text": [
      "-----------------------------------\n",
      "RESULTS: 3 Character || Model TS-A\n",
      "-----------------------------------\n",
      "Total Samples:  100\n",
      "Forward Accuracy: 66.5%\n",
      "Forward True:  32\n",
      "Bi-directional Accuracy: 73.17%\n",
      "Bi-directional True:  34\n",
      "Total Time: 205.07s\n",
      "Time Per Sample: 2.05s\n",
      "\n",
      "-----------------------------------\n",
      "ERROR ANALYSIS\n",
      "-----------------------------------\n",
      "\n",
      "Forward Scan Errors\n",
      "-----------------------------------\n",
      "File: 20_316.npy\t\tActual: 316\tPredicted: 31\tScore: 1\n",
      "File: 86_689.npy\t\tActual: 689\tPredicted: 889\tScore: 1\n",
      "File: 3_751.npy\t\tActual: 751\tPredicted: 81\tScore: 2\n",
      "File: 74_687.npy\t\tActual: 687\tPredicted: 68\tScore: 1\n",
      "File: 24_494.npy\t\tActual: 494\tPredicted: 490\tScore: 1\n",
      "File: 13_123.npy\t\tActual: 123\tPredicted: 5\tScore: 3\n",
      "File: 36_888.npy\t\tActual: 888\tPredicted: 9288\tScore: 2\n",
      "File: 84_675.npy\t\tActual: 675\tPredicted: 65\tScore: 1\n",
      "File: 93_323.npy\t\tActual: 323\tPredicted: 32\tScore: 1\n",
      "File: 0_873.npy\t\tActual: 873\tPredicted: 883\tScore: 1\n",
      "File: 17_798.npy\t\tActual: 798\tPredicted: 38\tScore: 2\n",
      "File: 64_723.npy\t\tActual: 723\tPredicted: 2\tScore: 2\n",
      "File: 23_956.npy\t\tActual: 956\tPredicted: 456\tScore: 1\n",
      "File: 38_905.npy\t\tActual: 905\tPredicted: 0\tScore: 2\n",
      "File: 53_793.npy\t\tActual: 793\tPredicted: 9\tScore: 2\n",
      "File: 87_911.npy\t\tActual: 911\tPredicted: 98\tScore: 2\n",
      "File: 60_682.npy\t\tActual: 682\tPredicted: 882\tScore: 1\n",
      "File: 65_060.npy\t\tActual: 060\tPredicted: 08\tScore: 2\n",
      "File: 78_968.npy\t\tActual: 968\tPredicted: 965\tScore: 1\n",
      "File: 27_232.npy\t\tActual: 232\tPredicted: 2\tScore: 2\n",
      "File: 96_143.npy\t\tActual: 143\tPredicted: 49\tScore: 2\n",
      "File: 41_415.npy\t\tActual: 415\tPredicted: 45\tScore: 1\n",
      "File: 26_271.npy\t\tActual: 271\tPredicted: 27\tScore: 1\n",
      "File: 45_040.npy\t\tActual: 040\tPredicted: 04\tScore: 1\n",
      "File: 98_378.npy\t\tActual: 378\tPredicted: 323\tScore: 2\n",
      "File: 76_543.npy\t\tActual: 543\tPredicted: 503\tScore: 1\n",
      "File: 54_507.npy\t\tActual: 507\tPredicted: 504\tScore: 1\n",
      "File: 25_949.npy\t\tActual: 949\tPredicted: 940\tScore: 1\n",
      "File: 43_714.npy\t\tActual: 714\tPredicted: 0\tScore: 3\n",
      "File: 77_553.npy\t\tActual: 553\tPredicted: 59\tScore: 2\n",
      "File: 72_194.npy\t\tActual: 194\tPredicted: 90\tScore: 2\n",
      "File: 50_010.npy\t\tActual: 010\tPredicted: 08\tScore: 2\n",
      "File: 85_532.npy\t\tActual: 532\tPredicted: 50\tScore: 2\n",
      "File: 90_702.npy\t\tActual: 702\tPredicted: 02\tScore: 1\n",
      "File: 66_178.npy\t\tActual: 178\tPredicted: 88\tScore: 2\n",
      "File: 58_777.npy\t\tActual: 777\tPredicted: 77\tScore: 1\n",
      "File: 49_736.npy\t\tActual: 736\tPredicted: 36\tScore: 1\n",
      "File: 40_243.npy\t\tActual: 243\tPredicted: 208\tScore: 2\n",
      "File: 62_282.npy\t\tActual: 282\tPredicted: 2132\tScore: 2\n",
      "File: 37_413.npy\t\tActual: 413\tPredicted: 43\tScore: 1\n",
      "File: 47_098.npy\t\tActual: 098\tPredicted: 096\tScore: 1\n",
      "File: 91_319.npy\t\tActual: 319\tPredicted: 38\tScore: 2\n",
      "File: 15_111.npy\t\tActual: 111\tPredicted: \tScore: 3\n",
      "File: 67_839.npy\t\tActual: 839\tPredicted: 833\tScore: 1\n",
      "File: 32_411.npy\t\tActual: 411\tPredicted: 41\tScore: 1\n",
      "File: 95_240.npy\t\tActual: 240\tPredicted: 200\tScore: 1\n",
      "File: 8_200.npy\t\tActual: 200\tPredicted: 280\tScore: 1\n",
      "File: 7_238.npy\t\tActual: 238\tPredicted: 288\tScore: 1\n",
      "File: 39_693.npy\t\tActual: 693\tPredicted: 093\tScore: 1\n",
      "File: 51_786.npy\t\tActual: 786\tPredicted: 86\tScore: 1\n",
      "File: 94_356.npy\t\tActual: 356\tPredicted: 386\tScore: 1\n",
      "File: 18_549.npy\t\tActual: 549\tPredicted: 5\tScore: 2\n",
      "File: 71_583.npy\t\tActual: 583\tPredicted: 48\tScore: 2\n",
      "File: 21_999.npy\t\tActual: 999\tPredicted: 98\tScore: 2\n",
      "File: 29_768.npy\t\tActual: 768\tPredicted: 68\tScore: 1\n",
      "File: 14_555.npy\t\tActual: 555\tPredicted: 558\tScore: 1\n",
      "File: 73_129.npy\t\tActual: 129\tPredicted: 12\tScore: 1\n",
      "File: 79_427.npy\t\tActual: 427\tPredicted: 027\tScore: 1\n",
      "File: 55_120.npy\t\tActual: 120\tPredicted: 2\tScore: 2\n",
      "File: 46_007.npy\t\tActual: 007\tPredicted: 00\tScore: 1\n",
      "File: 44_921.npy\t\tActual: 921\tPredicted: 92\tScore: 1\n",
      "File: 9_195.npy\t\tActual: 195\tPredicted: 95\tScore: 1\n",
      "File: 97_650.npy\t\tActual: 650\tPredicted: 6840\tScore: 2\n",
      "File: 92_890.npy\t\tActual: 890\tPredicted: 830\tScore: 1\n",
      "File: 69_223.npy\t\tActual: 223\tPredicted: 2\tScore: 2\n",
      "File: 19_967.npy\t\tActual: 967\tPredicted: 98\tScore: 2\n",
      "File: 68_432.npy\t\tActual: 432\tPredicted: 42\tScore: 1\n",
      "File: 59_004.npy\t\tActual: 004\tPredicted: 88\tScore: 3\n",
      "-----------------------------------\n",
      "L-Distance => 1: 38\t2: 26\t3: 4\t4+: 0\n",
      "\n",
      "Bi-directional Scan Errors\n",
      "-----------------------------------\n",
      "File: 20_316.npy\t\tActual: 316\tPredicted: 36\tScore: 1\n",
      "File: 86_689.npy\t\tActual: 689\tPredicted: 89\tScore: 1\n",
      "File: 3_751.npy\t\tActual: 751\tPredicted: 81\tScore: 2\n",
      "File: 74_687.npy\t\tActual: 687\tPredicted: 68\tScore: 1\n",
      "File: 13_123.npy\t\tActual: 123\tPredicted: 523\tScore: 1\n",
      "File: 83_032.npy\t\tActual: 032\tPredicted: 02\tScore: 1\n",
      "File: 36_888.npy\t\tActual: 888\tPredicted: 9283\tScore: 3\n",
      "File: 84_675.npy\t\tActual: 675\tPredicted: 625\tScore: 1\n",
      "File: 48_395.npy\t\tActual: 395\tPredicted: 35\tScore: 1\n",
      "File: 0_873.npy\t\tActual: 873\tPredicted: 83\tScore: 1\n",
      "File: 17_798.npy\t\tActual: 798\tPredicted: 38\tScore: 2\n",
      "File: 64_723.npy\t\tActual: 723\tPredicted: 23\tScore: 1\n",
      "File: 23_956.npy\t\tActual: 956\tPredicted: 46\tScore: 2\n",
      "File: 38_905.npy\t\tActual: 905\tPredicted: 05\tScore: 1\n",
      "File: 53_793.npy\t\tActual: 793\tPredicted: 93\tScore: 1\n",
      "File: 87_911.npy\t\tActual: 911\tPredicted: 98\tScore: 2\n",
      "File: 70_838.npy\t\tActual: 838\tPredicted: 833\tScore: 1\n",
      "File: 60_682.npy\t\tActual: 682\tPredicted: 882\tScore: 1\n",
      "File: 78_968.npy\t\tActual: 968\tPredicted: 963\tScore: 1\n",
      "File: 27_232.npy\t\tActual: 232\tPredicted: 292\tScore: 1\n",
      "File: 96_143.npy\t\tActual: 143\tPredicted: 443\tScore: 1\n",
      "File: 41_415.npy\t\tActual: 415\tPredicted: 45\tScore: 1\n",
      "File: 26_271.npy\t\tActual: 271\tPredicted: 27\tScore: 1\n",
      "File: 16_003.npy\t\tActual: 003\tPredicted: 03\tScore: 1\n",
      "File: 98_378.npy\t\tActual: 378\tPredicted: 383\tScore: 2\n",
      "File: 76_543.npy\t\tActual: 543\tPredicted: 503\tScore: 1\n",
      "File: 54_507.npy\t\tActual: 507\tPredicted: 508\tScore: 1\n",
      "File: 25_949.npy\t\tActual: 949\tPredicted: 99\tScore: 1\n",
      "File: 43_714.npy\t\tActual: 714\tPredicted: 4\tScore: 2\n",
      "File: 77_553.npy\t\tActual: 553\tPredicted: 583\tScore: 1\n",
      "File: 72_194.npy\t\tActual: 194\tPredicted: 94\tScore: 1\n",
      "File: 50_010.npy\t\tActual: 010\tPredicted: 00\tScore: 1\n",
      "File: 90_702.npy\t\tActual: 702\tPredicted: 02\tScore: 1\n",
      "File: 66_178.npy\t\tActual: 178\tPredicted: 88\tScore: 2\n",
      "File: 58_777.npy\t\tActual: 777\tPredicted: 77\tScore: 1\n",
      "File: 49_736.npy\t\tActual: 736\tPredicted: 36\tScore: 1\n",
      "File: 40_243.npy\t\tActual: 243\tPredicted: 203\tScore: 1\n",
      "File: 62_282.npy\t\tActual: 282\tPredicted: 2132\tScore: 2\n",
      "File: 37_413.npy\t\tActual: 413\tPredicted: 43\tScore: 1\n",
      "File: 47_098.npy\t\tActual: 098\tPredicted: 0963\tScore: 2\n",
      "File: 91_319.npy\t\tActual: 319\tPredicted: 39\tScore: 1\n",
      "File: 88_789.npy\t\tActual: 789\tPredicted: 7889\tScore: 1\n",
      "File: 15_111.npy\t\tActual: 111\tPredicted: 1\tScore: 2\n",
      "File: 67_839.npy\t\tActual: 839\tPredicted: 833\tScore: 1\n",
      "File: 11_666.npy\t\tActual: 666\tPredicted: 686\tScore: 1\n",
      "File: 32_411.npy\t\tActual: 411\tPredicted: 41\tScore: 1\n",
      "File: 95_240.npy\t\tActual: 240\tPredicted: 200\tScore: 1\n",
      "File: 8_200.npy\t\tActual: 200\tPredicted: 20\tScore: 1\n",
      "File: 7_238.npy\t\tActual: 238\tPredicted: 288\tScore: 1\n",
      "File: 39_693.npy\t\tActual: 693\tPredicted: 093\tScore: 1\n",
      "File: 51_786.npy\t\tActual: 786\tPredicted: 86\tScore: 1\n",
      "File: 94_356.npy\t\tActual: 356\tPredicted: 386\tScore: 1\n",
      "File: 22_876.npy\t\tActual: 876\tPredicted: 86\tScore: 1\n",
      "File: 18_549.npy\t\tActual: 549\tPredicted: 59\tScore: 1\n",
      "File: 71_583.npy\t\tActual: 583\tPredicted: 48\tScore: 2\n",
      "File: 21_999.npy\t\tActual: 999\tPredicted: 99\tScore: 1\n",
      "File: 29_768.npy\t\tActual: 768\tPredicted: 68\tScore: 1\n",
      "File: 79_427.npy\t\tActual: 427\tPredicted: 028\tScore: 2\n",
      "File: 55_120.npy\t\tActual: 120\tPredicted: 020\tScore: 1\n",
      "File: 44_921.npy\t\tActual: 921\tPredicted: 928\tScore: 1\n",
      "File: 9_195.npy\t\tActual: 195\tPredicted: 95\tScore: 1\n",
      "File: 97_650.npy\t\tActual: 650\tPredicted: 6870\tScore: 2\n",
      "File: 52_683.npy\t\tActual: 683\tPredicted: 635\tScore: 2\n",
      "File: 69_223.npy\t\tActual: 223\tPredicted: 203\tScore: 1\n",
      "File: 19_967.npy\t\tActual: 967\tPredicted: 98\tScore: 2\n",
      "File: 59_004.npy\t\tActual: 004\tPredicted: 804\tScore: 1\n",
      "-----------------------------------\n",
      "L-Distance => 1: 50\t2: 15\t3: 1\t4+: 0\n"
     ]
    },
    {
     "name": "stderr",
     "output_type": "stream",
     "text": [
      "\n"
     ]
    }
   ],
   "source": [
    "test_multi_char_samples(3, 'TS-A', frameskip=4, verbose=True)"
   ]
  },
  {
   "cell_type": "code",
   "execution_count": 19,
   "metadata": {},
   "outputs": [
    {
     "name": "stderr",
     "output_type": "stream",
     "text": [
      "100%|██████████| 101/101 [03:08<00:00,  1.87s/it]"
     ]
    },
    {
     "name": "stdout",
     "output_type": "stream",
     "text": [
      "-----------------------------------\n",
      "RESULTS: 3 Character || Model TS-B\n",
      "-----------------------------------\n",
      "Total Samples:  100\n",
      "Forward Accuracy: 76.0%\n",
      "Forward True:  47\n",
      "Bi-directional Accuracy: 83.0%\n",
      "Bi-directional True:  57\n",
      "Total Time: 188.26s\n",
      "Time Per Sample: 1.88s\n",
      "\n",
      "-----------------------------------\n",
      "ERROR ANALYSIS\n",
      "-----------------------------------\n",
      "\n",
      "Forward Scan Errors\n",
      "-----------------------------------\n",
      "File: 86_689.npy\t\tActual: 689\tPredicted: 889\tScore: 1\n",
      "File: 3_751.npy\t\tActual: 751\tPredicted: 8\tScore: 3\n",
      "File: 74_687.npy\t\tActual: 687\tPredicted: 65\tScore: 2\n",
      "File: 24_494.npy\t\tActual: 494\tPredicted: 491\tScore: 1\n",
      "File: 13_123.npy\t\tActual: 123\tPredicted: 12\tScore: 1\n",
      "File: 36_888.npy\t\tActual: 888\tPredicted: 882\tScore: 1\n",
      "File: 84_675.npy\t\tActual: 675\tPredicted: 65\tScore: 1\n",
      "File: 93_323.npy\t\tActual: 323\tPredicted: 32\tScore: 1\n",
      "File: 2_989.npy\t\tActual: 989\tPredicted: 987\tScore: 1\n",
      "File: 17_798.npy\t\tActual: 798\tPredicted: 738\tScore: 1\n",
      "File: 64_723.npy\t\tActual: 723\tPredicted: 7\tScore: 2\n",
      "File: 38_905.npy\t\tActual: 905\tPredicted: 903\tScore: 1\n",
      "File: 33_794.npy\t\tActual: 794\tPredicted: 7\tScore: 2\n",
      "File: 53_793.npy\t\tActual: 793\tPredicted: 79\tScore: 1\n",
      "File: 87_911.npy\t\tActual: 911\tPredicted: 91\tScore: 1\n",
      "File: 60_682.npy\t\tActual: 682\tPredicted: 582\tScore: 1\n",
      "File: 65_060.npy\t\tActual: 060\tPredicted: 0\tScore: 2\n",
      "File: 27_232.npy\t\tActual: 232\tPredicted: 2\tScore: 2\n",
      "File: 96_143.npy\t\tActual: 143\tPredicted: 148\tScore: 1\n",
      "File: 41_415.npy\t\tActual: 415\tPredicted: 5\tScore: 2\n",
      "File: 26_271.npy\t\tActual: 271\tPredicted: 27\tScore: 1\n",
      "File: 45_040.npy\t\tActual: 040\tPredicted: 04\tScore: 1\n",
      "File: 16_003.npy\t\tActual: 003\tPredicted: 03\tScore: 1\n",
      "File: 98_378.npy\t\tActual: 378\tPredicted: 38\tScore: 1\n",
      "File: 43_714.npy\t\tActual: 714\tPredicted: 7\tScore: 2\n",
      "File: 6_953.npy\t\tActual: 953\tPredicted: 950\tScore: 1\n",
      "File: 77_553.npy\t\tActual: 553\tPredicted: 55\tScore: 1\n",
      "File: 72_194.npy\t\tActual: 194\tPredicted: 44\tScore: 2\n",
      "File: 85_532.npy\t\tActual: 532\tPredicted: 5\tScore: 2\n",
      "File: 90_702.npy\t\tActual: 702\tPredicted: 70\tScore: 1\n",
      "File: 66_178.npy\t\tActual: 178\tPredicted: 88\tScore: 2\n",
      "File: 4_234.npy\t\tActual: 234\tPredicted: 24\tScore: 1\n",
      "File: 62_282.npy\t\tActual: 282\tPredicted: 82\tScore: 1\n",
      "File: 37_413.npy\t\tActual: 413\tPredicted: 43\tScore: 1\n",
      "File: 47_098.npy\t\tActual: 098\tPredicted: 096\tScore: 1\n",
      "File: 91_319.npy\t\tActual: 319\tPredicted: 349\tScore: 1\n",
      "File: 15_111.npy\t\tActual: 111\tPredicted: 11\tScore: 1\n",
      "File: 32_411.npy\t\tActual: 411\tPredicted: 41\tScore: 1\n",
      "File: 39_693.npy\t\tActual: 693\tPredicted: 093\tScore: 1\n",
      "File: 51_786.npy\t\tActual: 786\tPredicted: 787\tScore: 1\n",
      "File: 35_300.npy\t\tActual: 300\tPredicted: 3\tScore: 2\n",
      "File: 18_549.npy\t\tActual: 549\tPredicted: 5\tScore: 2\n",
      "File: 71_583.npy\t\tActual: 583\tPredicted: 48\tScore: 2\n",
      "File: 82_002.npy\t\tActual: 002\tPredicted: 05\tScore: 2\n",
      "File: 21_999.npy\t\tActual: 999\tPredicted: 949\tScore: 1\n",
      "File: 73_129.npy\t\tActual: 129\tPredicted: 624\tScore: 2\n",
      "File: 46_007.npy\t\tActual: 007\tPredicted: 05\tScore: 2\n",
      "File: 44_921.npy\t\tActual: 921\tPredicted: 926\tScore: 1\n",
      "File: 10_444.npy\t\tActual: 444\tPredicted: 44\tScore: 1\n",
      "File: 9_195.npy\t\tActual: 195\tPredicted: 95\tScore: 1\n",
      "File: 19_967.npy\t\tActual: 967\tPredicted: 96\tScore: 1\n",
      "File: 68_432.npy\t\tActual: 432\tPredicted: 42\tScore: 1\n",
      "File: 59_004.npy\t\tActual: 004\tPredicted: 0\tScore: 2\n",
      "-----------------------------------\n",
      "L-Distance => 1: 35\t2: 17\t3: 1\t4+: 0\n",
      "\n",
      "Bi-directional Scan Errors\n",
      "-----------------------------------\n",
      "File: 56_685.npy\t\tActual: 685\tPredicted: 675\tScore: 1\n",
      "File: 86_689.npy\t\tActual: 689\tPredicted: 859\tScore: 2\n",
      "File: 3_751.npy\t\tActual: 751\tPredicted: 7\tScore: 2\n",
      "File: 74_687.npy\t\tActual: 687\tPredicted: 65\tScore: 2\n",
      "File: 13_123.npy\t\tActual: 123\tPredicted: 13\tScore: 1\n",
      "File: 83_032.npy\t\tActual: 032\tPredicted: 02\tScore: 1\n",
      "File: 48_395.npy\t\tActual: 395\tPredicted: 35\tScore: 1\n",
      "File: 17_798.npy\t\tActual: 798\tPredicted: 738\tScore: 1\n",
      "File: 64_723.npy\t\tActual: 723\tPredicted: 73\tScore: 1\n",
      "File: 23_956.npy\t\tActual: 956\tPredicted: 96\tScore: 1\n",
      "File: 33_794.npy\t\tActual: 794\tPredicted: 7\tScore: 2\n",
      "File: 60_682.npy\t\tActual: 682\tPredicted: 582\tScore: 1\n",
      "File: 41_415.npy\t\tActual: 415\tPredicted: 45\tScore: 1\n",
      "File: 26_271.npy\t\tActual: 271\tPredicted: 27\tScore: 1\n",
      "File: 16_003.npy\t\tActual: 003\tPredicted: 03\tScore: 1\n",
      "File: 98_378.npy\t\tActual: 378\tPredicted: 33\tScore: 2\n",
      "File: 25_949.npy\t\tActual: 949\tPredicted: 99\tScore: 1\n",
      "File: 6_953.npy\t\tActual: 953\tPredicted: 973\tScore: 1\n",
      "File: 72_194.npy\t\tActual: 194\tPredicted: 94\tScore: 1\n",
      "File: 50_010.npy\t\tActual: 010\tPredicted: 00\tScore: 1\n",
      "File: 66_178.npy\t\tActual: 178\tPredicted: 878\tScore: 1\n",
      "File: 4_234.npy\t\tActual: 234\tPredicted: 24\tScore: 1\n",
      "File: 49_736.npy\t\tActual: 736\tPredicted: 76\tScore: 1\n",
      "File: 62_282.npy\t\tActual: 282\tPredicted: 2\tScore: 2\n",
      "File: 37_413.npy\t\tActual: 413\tPredicted: 43\tScore: 1\n",
      "File: 91_319.npy\t\tActual: 319\tPredicted: 349\tScore: 1\n",
      "File: 15_111.npy\t\tActual: 111\tPredicted: 11\tScore: 1\n",
      "File: 67_839.npy\t\tActual: 839\tPredicted: 89\tScore: 1\n",
      "File: 11_666.npy\t\tActual: 666\tPredicted: 686\tScore: 1\n",
      "File: 32_411.npy\t\tActual: 411\tPredicted: 41\tScore: 1\n",
      "File: 39_693.npy\t\tActual: 693\tPredicted: 093\tScore: 1\n",
      "File: 18_549.npy\t\tActual: 549\tPredicted: 5\tScore: 2\n",
      "File: 71_583.npy\t\tActual: 583\tPredicted: 48\tScore: 2\n",
      "File: 82_002.npy\t\tActual: 002\tPredicted: 052\tScore: 1\n",
      "File: 21_999.npy\t\tActual: 999\tPredicted: 99\tScore: 1\n",
      "File: 73_129.npy\t\tActual: 129\tPredicted: 629\tScore: 1\n",
      "File: 79_427.npy\t\tActual: 427\tPredicted: 425\tScore: 1\n",
      "File: 46_007.npy\t\tActual: 007\tPredicted: 07\tScore: 1\n",
      "File: 44_921.npy\t\tActual: 921\tPredicted: 926\tScore: 1\n",
      "File: 10_444.npy\t\tActual: 444\tPredicted: 44\tScore: 1\n",
      "File: 9_195.npy\t\tActual: 195\tPredicted: 95\tScore: 1\n",
      "File: 19_967.npy\t\tActual: 967\tPredicted: 965\tScore: 1\n",
      "File: 59_004.npy\t\tActual: 004\tPredicted: 504\tScore: 1\n",
      "-----------------------------------\n",
      "L-Distance => 1: 35\t2: 8\t3: 0\t4+: 0\n"
     ]
    },
    {
     "name": "stderr",
     "output_type": "stream",
     "text": [
      "\n"
     ]
    }
   ],
   "source": [
    "test_multi_char_samples(3, 'TS-B', frameskip=4, verbose=True)"
   ]
  },
  {
   "cell_type": "code",
   "execution_count": 20,
   "metadata": {},
   "outputs": [
    {
     "name": "stderr",
     "output_type": "stream",
     "text": [
      "100%|██████████| 101/101 [03:00<00:00,  1.70s/it]"
     ]
    },
    {
     "name": "stdout",
     "output_type": "stream",
     "text": [
      "-----------------------------------\n",
      "RESULTS: 3 Character || Model TS-C\n",
      "-----------------------------------\n",
      "Total Samples:  100\n",
      "Forward Accuracy: 77.33%\n",
      "Forward True:  48\n",
      "Bi-directional Accuracy: 83.17%\n",
      "Bi-directional True:  53\n",
      "Total Time: 180.51s\n",
      "Time Per Sample: 1.81s\n",
      "\n",
      "-----------------------------------\n",
      "ERROR ANALYSIS\n",
      "-----------------------------------\n",
      "\n",
      "Forward Scan Errors\n",
      "-----------------------------------\n",
      "File: 86_689.npy\t\tActual: 689\tPredicted: 68\tScore: 1\n",
      "File: 3_751.npy\t\tActual: 751\tPredicted: 9\tScore: 3\n",
      "File: 74_687.npy\t\tActual: 687\tPredicted: 65\tScore: 2\n",
      "File: 24_494.npy\t\tActual: 494\tPredicted: 490\tScore: 1\n",
      "File: 13_123.npy\t\tActual: 123\tPredicted: 12\tScore: 1\n",
      "File: 36_888.npy\t\tActual: 888\tPredicted: 883\tScore: 1\n",
      "File: 84_675.npy\t\tActual: 675\tPredicted: 65\tScore: 1\n",
      "File: 93_323.npy\t\tActual: 323\tPredicted: 363\tScore: 1\n",
      "File: 2_989.npy\t\tActual: 989\tPredicted: 986\tScore: 1\n",
      "File: 17_798.npy\t\tActual: 798\tPredicted: 738\tScore: 1\n",
      "File: 23_956.npy\t\tActual: 956\tPredicted: 56\tScore: 1\n",
      "File: 38_905.npy\t\tActual: 905\tPredicted: 903\tScore: 1\n",
      "File: 33_794.npy\t\tActual: 794\tPredicted: 7\tScore: 2\n",
      "File: 60_682.npy\t\tActual: 682\tPredicted: 62\tScore: 1\n",
      "File: 65_060.npy\t\tActual: 060\tPredicted: 08\tScore: 2\n",
      "File: 78_968.npy\t\tActual: 968\tPredicted: 965\tScore: 1\n",
      "File: 1_362.npy\t\tActual: 362\tPredicted: 32\tScore: 1\n",
      "File: 27_232.npy\t\tActual: 232\tPredicted: 832\tScore: 1\n",
      "File: 81_642.npy\t\tActual: 642\tPredicted: 64\tScore: 1\n",
      "File: 41_415.npy\t\tActual: 415\tPredicted: 46\tScore: 2\n",
      "File: 26_271.npy\t\tActual: 271\tPredicted: 27\tScore: 1\n",
      "File: 45_040.npy\t\tActual: 040\tPredicted: 04\tScore: 1\n",
      "File: 76_543.npy\t\tActual: 543\tPredicted: 613\tScore: 2\n",
      "File: 43_714.npy\t\tActual: 714\tPredicted: 7\tScore: 2\n",
      "File: 77_553.npy\t\tActual: 553\tPredicted: 55\tScore: 1\n",
      "File: 72_194.npy\t\tActual: 194\tPredicted: 190\tScore: 1\n",
      "File: 50_010.npy\t\tActual: 010\tPredicted: 08\tScore: 2\n",
      "File: 85_532.npy\t\tActual: 532\tPredicted: 50\tScore: 2\n",
      "File: 66_178.npy\t\tActual: 178\tPredicted: 78\tScore: 1\n",
      "File: 4_234.npy\t\tActual: 234\tPredicted: 20\tScore: 2\n",
      "File: 49_736.npy\t\tActual: 736\tPredicted: 36\tScore: 1\n",
      "File: 40_243.npy\t\tActual: 243\tPredicted: 203\tScore: 1\n",
      "File: 62_282.npy\t\tActual: 282\tPredicted: 182\tScore: 1\n",
      "File: 37_413.npy\t\tActual: 413\tPredicted: 43\tScore: 1\n",
      "File: 47_098.npy\t\tActual: 098\tPredicted: 096\tScore: 1\n",
      "File: 91_319.npy\t\tActual: 319\tPredicted: 389\tScore: 1\n",
      "File: 88_789.npy\t\tActual: 789\tPredicted: 79\tScore: 1\n",
      "File: 15_111.npy\t\tActual: 111\tPredicted: 11\tScore: 1\n",
      "File: 32_411.npy\t\tActual: 411\tPredicted: 41\tScore: 1\n",
      "File: 94_356.npy\t\tActual: 356\tPredicted: 366\tScore: 1\n",
      "File: 18_549.npy\t\tActual: 549\tPredicted: 5\tScore: 2\n",
      "File: 71_583.npy\t\tActual: 583\tPredicted: 58\tScore: 1\n",
      "File: 21_999.npy\t\tActual: 999\tPredicted: 98\tScore: 2\n",
      "File: 14_555.npy\t\tActual: 555\tPredicted: 855\tScore: 1\n",
      "File: 79_427.npy\t\tActual: 427\tPredicted: 627\tScore: 1\n",
      "File: 55_120.npy\t\tActual: 120\tPredicted: 10\tScore: 1\n",
      "File: 46_007.npy\t\tActual: 007\tPredicted: 05\tScore: 2\n",
      "File: 10_444.npy\t\tActual: 444\tPredicted: 44\tScore: 1\n",
      "File: 9_195.npy\t\tActual: 195\tPredicted: 95\tScore: 1\n",
      "File: 52_683.npy\t\tActual: 683\tPredicted: 663\tScore: 1\n",
      "File: 69_223.npy\t\tActual: 223\tPredicted: 26\tScore: 2\n",
      "File: 59_004.npy\t\tActual: 004\tPredicted: 0\tScore: 2\n",
      "-----------------------------------\n",
      "L-Distance => 1: 37\t2: 14\t3: 1\t4+: 0\n",
      "\n",
      "Bi-directional Scan Errors\n",
      "-----------------------------------\n",
      "File: 86_689.npy\t\tActual: 689\tPredicted: 659\tScore: 1\n",
      "File: 3_751.npy\t\tActual: 751\tPredicted: 91\tScore: 2\n",
      "File: 83_032.npy\t\tActual: 032\tPredicted: 02\tScore: 1\n",
      "File: 84_675.npy\t\tActual: 675\tPredicted: 65\tScore: 1\n",
      "File: 48_395.npy\t\tActual: 395\tPredicted: 35\tScore: 1\n",
      "File: 30_690.npy\t\tActual: 690\tPredicted: 60\tScore: 1\n",
      "File: 93_323.npy\t\tActual: 323\tPredicted: 363\tScore: 1\n",
      "File: 12_023.npy\t\tActual: 023\tPredicted: 03\tScore: 1\n",
      "File: 17_798.npy\t\tActual: 798\tPredicted: 738\tScore: 1\n",
      "File: 23_956.npy\t\tActual: 956\tPredicted: 456\tScore: 1\n",
      "File: 33_794.npy\t\tActual: 794\tPredicted: 74\tScore: 1\n",
      "File: 60_682.npy\t\tActual: 682\tPredicted: 62\tScore: 1\n",
      "File: 63_203.npy\t\tActual: 203\tPredicted: 23\tScore: 1\n",
      "File: 78_968.npy\t\tActual: 968\tPredicted: 965\tScore: 1\n",
      "File: 27_232.npy\t\tActual: 232\tPredicted: 832\tScore: 1\n",
      "File: 81_642.npy\t\tActual: 642\tPredicted: 64\tScore: 1\n",
      "File: 41_415.npy\t\tActual: 415\tPredicted: 485\tScore: 1\n",
      "File: 26_271.npy\t\tActual: 271\tPredicted: 27\tScore: 1\n",
      "File: 16_003.npy\t\tActual: 003\tPredicted: 03\tScore: 1\n",
      "File: 76_543.npy\t\tActual: 543\tPredicted: 6143\tScore: 2\n",
      "File: 25_949.npy\t\tActual: 949\tPredicted: 99\tScore: 1\n",
      "File: 6_953.npy\t\tActual: 953\tPredicted: 973\tScore: 1\n",
      "File: 50_010.npy\t\tActual: 010\tPredicted: 00\tScore: 1\n",
      "File: 66_178.npy\t\tActual: 178\tPredicted: 78\tScore: 1\n",
      "File: 4_234.npy\t\tActual: 234\tPredicted: 24\tScore: 1\n",
      "File: 49_736.npy\t\tActual: 736\tPredicted: 36\tScore: 1\n",
      "File: 40_243.npy\t\tActual: 243\tPredicted: 203\tScore: 1\n",
      "File: 62_282.npy\t\tActual: 282\tPredicted: 12\tScore: 2\n",
      "File: 37_413.npy\t\tActual: 413\tPredicted: 43\tScore: 1\n",
      "File: 91_319.npy\t\tActual: 319\tPredicted: 389\tScore: 1\n",
      "File: 88_789.npy\t\tActual: 789\tPredicted: 79\tScore: 1\n",
      "File: 67_839.npy\t\tActual: 839\tPredicted: 879\tScore: 1\n",
      "File: 32_411.npy\t\tActual: 411\tPredicted: 41\tScore: 1\n",
      "File: 8_200.npy\t\tActual: 200\tPredicted: 20\tScore: 1\n",
      "File: 39_693.npy\t\tActual: 693\tPredicted: 683\tScore: 1\n",
      "File: 94_356.npy\t\tActual: 356\tPredicted: 366\tScore: 1\n",
      "File: 18_549.npy\t\tActual: 549\tPredicted: 59\tScore: 1\n",
      "File: 71_583.npy\t\tActual: 583\tPredicted: 58\tScore: 1\n",
      "File: 57_364.npy\t\tActual: 364\tPredicted: 34\tScore: 1\n",
      "File: 14_555.npy\t\tActual: 555\tPredicted: 855\tScore: 1\n",
      "File: 79_427.npy\t\tActual: 427\tPredicted: 627\tScore: 1\n",
      "File: 46_007.npy\t\tActual: 007\tPredicted: 07\tScore: 1\n",
      "File: 44_921.npy\t\tActual: 921\tPredicted: 926\tScore: 1\n",
      "File: 10_444.npy\t\tActual: 444\tPredicted: 41\tScore: 2\n",
      "File: 9_195.npy\t\tActual: 195\tPredicted: 95\tScore: 1\n",
      "File: 52_683.npy\t\tActual: 683\tPredicted: 663\tScore: 1\n",
      "File: 69_223.npy\t\tActual: 223\tPredicted: 263\tScore: 1\n",
      "-----------------------------------\n",
      "L-Distance => 1: 43\t2: 4\t3: 0\t4+: 0\n"
     ]
    },
    {
     "name": "stderr",
     "output_type": "stream",
     "text": [
      "\n"
     ]
    }
   ],
   "source": [
    "test_multi_char_samples(3, 'TS-C', frameskip=4, verbose=True)"
   ]
  },
  {
   "cell_type": "code",
   "execution_count": 21,
   "metadata": {},
   "outputs": [
    {
     "name": "stderr",
     "output_type": "stream",
     "text": [
      "100%|██████████| 101/101 [02:50<00:00,  1.71s/it]"
     ]
    },
    {
     "name": "stdout",
     "output_type": "stream",
     "text": [
      "-----------------------------------\n",
      "RESULTS: 3 Character || Model TS-D\n",
      "-----------------------------------\n",
      "Total Samples:  100\n",
      "Forward Accuracy: 82.0%\n",
      "Forward True:  55\n",
      "Bi-directional Accuracy: 83.0%\n",
      "Bi-directional True:  51\n",
      "Total Time: 170.48s\n",
      "Time Per Sample: 1.7s\n",
      "\n",
      "-----------------------------------\n",
      "ERROR ANALYSIS\n",
      "-----------------------------------\n",
      "\n",
      "Forward Scan Errors\n",
      "-----------------------------------\n",
      "File: 86_689.npy\t\tActual: 689\tPredicted: 886\tScore: 2\n",
      "File: 3_751.npy\t\tActual: 751\tPredicted: 8\tScore: 3\n",
      "File: 24_494.npy\t\tActual: 494\tPredicted: 90\tScore: 2\n",
      "File: 13_123.npy\t\tActual: 123\tPredicted: 12\tScore: 1\n",
      "File: 36_888.npy\t\tActual: 888\tPredicted: 883\tScore: 1\n",
      "File: 84_675.npy\t\tActual: 675\tPredicted: 65\tScore: 1\n",
      "File: 93_323.npy\t\tActual: 323\tPredicted: 32\tScore: 1\n",
      "File: 17_798.npy\t\tActual: 798\tPredicted: 738\tScore: 1\n",
      "File: 23_956.npy\t\tActual: 956\tPredicted: 456\tScore: 1\n",
      "File: 38_905.npy\t\tActual: 905\tPredicted: 903\tScore: 1\n",
      "File: 33_794.npy\t\tActual: 794\tPredicted: 744\tScore: 1\n",
      "File: 87_911.npy\t\tActual: 911\tPredicted: 94\tScore: 2\n",
      "File: 80_400.npy\t\tActual: 400\tPredicted: 00\tScore: 1\n",
      "File: 60_682.npy\t\tActual: 682\tPredicted: 62\tScore: 1\n",
      "File: 65_060.npy\t\tActual: 060\tPredicted: 08\tScore: 2\n",
      "File: 78_968.npy\t\tActual: 968\tPredicted: 965\tScore: 1\n",
      "File: 1_362.npy\t\tActual: 362\tPredicted: 312\tScore: 1\n",
      "File: 41_415.npy\t\tActual: 415\tPredicted: 115\tScore: 1\n",
      "File: 26_271.npy\t\tActual: 271\tPredicted: 27\tScore: 1\n",
      "File: 45_040.npy\t\tActual: 040\tPredicted: 04\tScore: 1\n",
      "File: 76_543.npy\t\tActual: 543\tPredicted: 503\tScore: 1\n",
      "File: 77_553.npy\t\tActual: 553\tPredicted: 55\tScore: 1\n",
      "File: 72_194.npy\t\tActual: 194\tPredicted: 191\tScore: 1\n",
      "File: 50_010.npy\t\tActual: 010\tPredicted: 08\tScore: 2\n",
      "File: 85_532.npy\t\tActual: 532\tPredicted: 53\tScore: 1\n",
      "File: 66_178.npy\t\tActual: 178\tPredicted: 78\tScore: 1\n",
      "File: 40_243.npy\t\tActual: 243\tPredicted: 203\tScore: 1\n",
      "File: 62_282.npy\t\tActual: 282\tPredicted: 82\tScore: 1\n",
      "File: 37_413.npy\t\tActual: 413\tPredicted: 13\tScore: 1\n",
      "File: 91_319.npy\t\tActual: 319\tPredicted: 349\tScore: 1\n",
      "File: 15_111.npy\t\tActual: 111\tPredicted: 11\tScore: 1\n",
      "File: 32_411.npy\t\tActual: 411\tPredicted: 41\tScore: 1\n",
      "File: 95_240.npy\t\tActual: 240\tPredicted: 200\tScore: 1\n",
      "File: 7_238.npy\t\tActual: 238\tPredicted: 233\tScore: 1\n",
      "File: 39_693.npy\t\tActual: 693\tPredicted: 093\tScore: 1\n",
      "File: 18_549.npy\t\tActual: 549\tPredicted: 5\tScore: 2\n",
      "File: 71_583.npy\t\tActual: 583\tPredicted: 58\tScore: 1\n",
      "File: 57_364.npy\t\tActual: 364\tPredicted: 360\tScore: 1\n",
      "File: 29_768.npy\t\tActual: 768\tPredicted: 78\tScore: 1\n",
      "File: 79_427.npy\t\tActual: 427\tPredicted: 027\tScore: 1\n",
      "File: 46_007.npy\t\tActual: 007\tPredicted: 00\tScore: 1\n",
      "File: 9_195.npy\t\tActual: 195\tPredicted: 95\tScore: 1\n",
      "File: 92_890.npy\t\tActual: 890\tPredicted: 870\tScore: 1\n",
      "File: 19_967.npy\t\tActual: 967\tPredicted: 96\tScore: 1\n",
      "File: 59_004.npy\t\tActual: 004\tPredicted: 0\tScore: 2\n",
      "-----------------------------------\n",
      "L-Distance => 1: 37\t2: 7\t3: 1\t4+: 0\n",
      "\n",
      "Bi-directional Scan Errors\n",
      "-----------------------------------\n",
      "File: 86_689.npy\t\tActual: 689\tPredicted: 89\tScore: 1\n",
      "File: 3_751.npy\t\tActual: 751\tPredicted: 1\tScore: 2\n",
      "File: 13_123.npy\t\tActual: 123\tPredicted: 13\tScore: 1\n",
      "File: 83_032.npy\t\tActual: 032\tPredicted: 02\tScore: 1\n",
      "File: 84_675.npy\t\tActual: 675\tPredicted: 65\tScore: 1\n",
      "File: 48_395.npy\t\tActual: 395\tPredicted: 35\tScore: 1\n",
      "File: 30_690.npy\t\tActual: 690\tPredicted: 60\tScore: 1\n",
      "File: 12_023.npy\t\tActual: 023\tPredicted: 03\tScore: 1\n",
      "File: 0_873.npy\t\tActual: 873\tPredicted: 853\tScore: 1\n",
      "File: 17_798.npy\t\tActual: 798\tPredicted: 738\tScore: 1\n",
      "File: 23_956.npy\t\tActual: 956\tPredicted: 456\tScore: 1\n",
      "File: 33_794.npy\t\tActual: 794\tPredicted: 74\tScore: 1\n",
      "File: 87_911.npy\t\tActual: 911\tPredicted: 91\tScore: 1\n",
      "File: 60_682.npy\t\tActual: 682\tPredicted: 62\tScore: 1\n",
      "File: 63_203.npy\t\tActual: 203\tPredicted: 23\tScore: 1\n",
      "File: 78_968.npy\t\tActual: 968\tPredicted: 969\tScore: 1\n",
      "File: 1_362.npy\t\tActual: 362\tPredicted: 312\tScore: 1\n",
      "File: 81_642.npy\t\tActual: 642\tPredicted: 64\tScore: 1\n",
      "File: 41_415.npy\t\tActual: 415\tPredicted: 115\tScore: 1\n",
      "File: 26_271.npy\t\tActual: 271\tPredicted: 27\tScore: 1\n",
      "File: 16_003.npy\t\tActual: 003\tPredicted: 03\tScore: 1\n",
      "File: 76_543.npy\t\tActual: 543\tPredicted: 503\tScore: 1\n",
      "File: 25_949.npy\t\tActual: 949\tPredicted: 99\tScore: 1\n",
      "File: 6_953.npy\t\tActual: 953\tPredicted: 973\tScore: 1\n",
      "File: 50_010.npy\t\tActual: 010\tPredicted: 00\tScore: 1\n",
      "File: 90_702.npy\t\tActual: 702\tPredicted: 752\tScore: 1\n",
      "File: 66_178.npy\t\tActual: 178\tPredicted: 78\tScore: 1\n",
      "File: 49_736.npy\t\tActual: 736\tPredicted: 76\tScore: 1\n",
      "File: 40_243.npy\t\tActual: 243\tPredicted: 203\tScore: 1\n",
      "File: 62_282.npy\t\tActual: 282\tPredicted: 82\tScore: 1\n",
      "File: 37_413.npy\t\tActual: 413\tPredicted: 13\tScore: 1\n",
      "File: 91_319.npy\t\tActual: 319\tPredicted: 349\tScore: 1\n",
      "File: 88_789.npy\t\tActual: 789\tPredicted: 79\tScore: 1\n",
      "File: 15_111.npy\t\tActual: 111\tPredicted: 11\tScore: 1\n",
      "File: 32_411.npy\t\tActual: 411\tPredicted: 41\tScore: 1\n",
      "File: 95_240.npy\t\tActual: 240\tPredicted: 200\tScore: 1\n",
      "File: 8_200.npy\t\tActual: 200\tPredicted: 20\tScore: 1\n",
      "File: 39_693.npy\t\tActual: 693\tPredicted: 093\tScore: 1\n",
      "File: 94_356.npy\t\tActual: 356\tPredicted: 326\tScore: 1\n",
      "File: 18_549.npy\t\tActual: 549\tPredicted: 59\tScore: 1\n",
      "File: 71_583.npy\t\tActual: 583\tPredicted: 58\tScore: 1\n",
      "File: 82_002.npy\t\tActual: 002\tPredicted: 02\tScore: 1\n",
      "File: 57_364.npy\t\tActual: 364\tPredicted: 34\tScore: 1\n",
      "File: 79_427.npy\t\tActual: 427\tPredicted: 025\tScore: 2\n",
      "File: 46_007.npy\t\tActual: 007\tPredicted: 07\tScore: 1\n",
      "File: 9_195.npy\t\tActual: 195\tPredicted: 95\tScore: 1\n",
      "File: 69_223.npy\t\tActual: 223\tPredicted: 23\tScore: 1\n",
      "File: 68_432.npy\t\tActual: 432\tPredicted: 42\tScore: 1\n",
      "File: 59_004.npy\t\tActual: 004\tPredicted: 504\tScore: 1\n",
      "-----------------------------------\n",
      "L-Distance => 1: 47\t2: 2\t3: 0\t4+: 0\n"
     ]
    },
    {
     "name": "stderr",
     "output_type": "stream",
     "text": [
      "\n"
     ]
    }
   ],
   "source": [
    "test_multi_char_samples(3, 'TS-D', frameskip=4, verbose=True)"
   ]
  },
  {
   "cell_type": "markdown",
   "metadata": {},
   "source": [
    "<h3>4 Character Samples</h3>"
   ]
  },
  {
   "cell_type": "code",
   "execution_count": 22,
   "metadata": {},
   "outputs": [
    {
     "data": {
      "image/png": "[encoded data removed]",
      "text/plain": [
       "<Figure size 1440x720 with 10 Axes>"
      ]
     },
     "metadata": {
      "needs_background": "light"
     },
     "output_type": "display_data"
    }
   ],
   "source": [
    "display_samples(4)"
   ]
  },
  {
   "cell_type": "code",
   "execution_count": 23,
   "metadata": {},
   "outputs": [
    {
     "name": "stderr",
     "output_type": "stream",
     "text": [
      "100%|██████████| 101/101 [04:43<00:00,  2.64s/it]"
     ]
    },
    {
     "name": "stdout",
     "output_type": "stream",
     "text": [
      "-----------------------------------\n",
      "RESULTS: 4 Character || Model TS-A\n",
      "-----------------------------------\n",
      "Total Samples:  100\n",
      "Forward Accuracy: 60.5%\n",
      "Forward True:  14\n",
      "Bi-directional Accuracy: 71.4%\n",
      "Bi-directional True:  23\n",
      "Total Time: 283.72s\n",
      "Time Per Sample: 2.84s\n",
      "\n",
      "-----------------------------------\n",
      "ERROR ANALYSIS\n",
      "-----------------------------------\n",
      "\n",
      "Forward Scan Errors\n",
      "-----------------------------------\n",
      "File: 59_1810.npy\t\tActual: 1810\tPredicted: 80\tScore: 2\n",
      "File: 49_6955.npy\t\tActual: 6955\tPredicted: 95\tScore: 2\n",
      "File: 93_5787.npy\t\tActual: 5787\tPredicted: 767\tScore: 2\n",
      "File: 81_8806.npy\t\tActual: 8806\tPredicted: 830\tScore: 2\n",
      "File: 41_4071.npy\t\tActual: 4071\tPredicted: 01\tScore: 2\n",
      "File: 63_8345.npy\t\tActual: 8345\tPredicted: 835\tScore: 1\n",
      "File: 37_8385.npy\t\tActual: 8385\tPredicted: 838\tScore: 1\n",
      "File: 46_1044.npy\t\tActual: 1044\tPredicted: 044\tScore: 1\n",
      "File: 21_4332.npy\t\tActual: 4332\tPredicted: 473\tScore: 2\n",
      "File: 9_7229.npy\t\tActual: 7229\tPredicted: 29\tScore: 2\n",
      "File: 16_8914.npy\t\tActual: 8914\tPredicted: 890\tScore: 2\n",
      "File: 72_1129.npy\t\tActual: 1129\tPredicted: 829\tScore: 2\n",
      "File: 67_8339.npy\t\tActual: 8339\tPredicted: 83\tScore: 2\n",
      "File: 50_5256.npy\t\tActual: 5256\tPredicted: 54\tScore: 3\n",
      "File: 7_5745.npy\t\tActual: 5745\tPredicted: 5748\tScore: 1\n",
      "File: 99_7664.npy\t\tActual: 7664\tPredicted: 784\tScore: 2\n",
      "File: 5_8805.npy\t\tActual: 8805\tPredicted: 8305\tScore: 1\n",
      "File: 22_2487.npy\t\tActual: 2487\tPredicted: 2467\tScore: 1\n",
      "File: 28_4259.npy\t\tActual: 4259\tPredicted: 489\tScore: 2\n",
      "File: 85_1315.npy\t\tActual: 1315\tPredicted: 35\tScore: 2\n",
      "File: 3_9073.npy\t\tActual: 9073\tPredicted: 90\tScore: 2\n",
      "File: 57_1385.npy\t\tActual: 1385\tPredicted: 85\tScore: 2\n",
      "File: 74_9684.npy\t\tActual: 9684\tPredicted: 968\tScore: 1\n",
      "File: 92_9306.npy\t\tActual: 9306\tPredicted: 9908\tScore: 2\n",
      "File: 98_8785.npy\t\tActual: 8785\tPredicted: 878\tScore: 1\n",
      "File: 70_7511.npy\t\tActual: 7511\tPredicted: 5\tScore: 3\n",
      "File: 45_2166.npy\t\tActual: 2166\tPredicted: 36\tScore: 3\n",
      "File: 89_8129.npy\t\tActual: 8129\tPredicted: 829\tScore: 1\n",
      "File: 4_8452.npy\t\tActual: 8452\tPredicted: 842\tScore: 1\n",
      "File: 75_2876.npy\t\tActual: 2876\tPredicted: 28\tScore: 2\n",
      "File: 48_8951.npy\t\tActual: 8951\tPredicted: 898\tScore: 2\n",
      "File: 12_7494.npy\t\tActual: 7494\tPredicted: 49\tScore: 2\n",
      "File: 62_6957.npy\t\tActual: 6957\tPredicted: 987\tScore: 2\n",
      "File: 1_5757.npy\t\tActual: 5757\tPredicted: 579\tScore: 2\n",
      "File: 60_0265.npy\t\tActual: 0265\tPredicted: 86\tScore: 3\n",
      "File: 87_2684.npy\t\tActual: 2684\tPredicted: 268\tScore: 1\n",
      "File: 32_3543.npy\t\tActual: 3543\tPredicted: 3848\tScore: 2\n",
      "File: 94_4248.npy\t\tActual: 4248\tPredicted: 4245\tScore: 1\n",
      "File: 61_4141.npy\t\tActual: 4141\tPredicted: 44\tScore: 2\n",
      "File: 47_4779.npy\t\tActual: 4779\tPredicted: 48\tScore: 3\n",
      "File: 43_6850.npy\t\tActual: 6850\tPredicted: 80\tScore: 2\n",
      "File: 8_9550.npy\t\tActual: 9550\tPredicted: 930\tScore: 2\n",
      "File: 90_6009.npy\t\tActual: 6009\tPredicted: 8009\tScore: 1\n",
      "File: 56_7111.npy\t\tActual: 7111\tPredicted: 74\tScore: 3\n",
      "File: 78_3896.npy\t\tActual: 3896\tPredicted: 383\tScore: 2\n",
      "File: 82_2624.npy\t\tActual: 2624\tPredicted: 24\tScore: 2\n",
      "File: 0_8178.npy\t\tActual: 8178\tPredicted: 838\tScore: 2\n",
      "File: 88_7817.npy\t\tActual: 7817\tPredicted: 84\tScore: 3\n",
      "File: 35_9834.npy\t\tActual: 9834\tPredicted: 983\tScore: 1\n",
      "File: 34_7391.npy\t\tActual: 7391\tPredicted: 391\tScore: 1\n",
      "File: 51_8233.npy\t\tActual: 8233\tPredicted: 82\tScore: 2\n",
      "File: 30_8751.npy\t\tActual: 8751\tPredicted: 87\tScore: 2\n",
      "File: 96_6249.npy\t\tActual: 6249\tPredicted: 4\tScore: 3\n",
      "File: 42_1729.npy\t\tActual: 1729\tPredicted: 729\tScore: 1\n",
      "File: 29_0286.npy\t\tActual: 0286\tPredicted: 08\tScore: 2\n",
      "File: 84_2668.npy\t\tActual: 2668\tPredicted: 68\tScore: 2\n",
      "File: 86_8094.npy\t\tActual: 8094\tPredicted: 834\tScore: 2\n",
      "File: 66_9210.npy\t\tActual: 9210\tPredicted: 9\tScore: 3\n",
      "File: 14_9594.npy\t\tActual: 9594\tPredicted: 9894\tScore: 1\n",
      "File: 52_5738.npy\t\tActual: 5738\tPredicted: 538\tScore: 1\n",
      "File: 55_5958.npy\t\tActual: 5958\tPredicted: 5938\tScore: 1\n",
      "File: 65_9586.npy\t\tActual: 9586\tPredicted: 988\tScore: 2\n",
      "File: 44_4339.npy\t\tActual: 4339\tPredicted: 439\tScore: 1\n",
      "File: 11_1070.npy\t\tActual: 1070\tPredicted: 070\tScore: 1\n",
      "File: 73_1854.npy\t\tActual: 1854\tPredicted: 65\tScore: 3\n",
      "File: 80_1585.npy\t\tActual: 1585\tPredicted: 8585\tScore: 1\n",
      "File: 38_1240.npy\t\tActual: 1240\tPredicted: 8240\tScore: 1\n",
      "File: 91_6958.npy\t\tActual: 6958\tPredicted: 988\tScore: 2\n",
      "File: 64_7816.npy\t\tActual: 7816\tPredicted: 786\tScore: 1\n",
      "File: 97_2899.npy\t\tActual: 2899\tPredicted: 599\tScore: 2\n",
      "File: 53_3220.npy\t\tActual: 3220\tPredicted: 32\tScore: 2\n",
      "File: 79_2255.npy\t\tActual: 2255\tPredicted: 2055\tScore: 1\n",
      "File: 83_7195.npy\t\tActual: 7195\tPredicted: 698\tScore: 3\n",
      "File: 25_2094.npy\t\tActual: 2094\tPredicted: 2090\tScore: 1\n",
      "File: 40_0629.npy\t\tActual: 0629\tPredicted: 0829\tScore: 1\n",
      "File: 39_6565.npy\t\tActual: 6565\tPredicted: 6\tScore: 3\n",
      "File: 19_8711.npy\t\tActual: 8711\tPredicted: 878\tScore: 2\n",
      "File: 95_6441.npy\t\tActual: 6441\tPredicted: 8443\tScore: 2\n",
      "File: 54_3275.npy\t\tActual: 3275\tPredicted: 328\tScore: 2\n",
      "File: 27_3119.npy\t\tActual: 3119\tPredicted: 38\tScore: 3\n",
      "File: 2_5530.npy\t\tActual: 5530\tPredicted: 830\tScore: 2\n",
      "File: 6_7839.npy\t\tActual: 7839\tPredicted: 89\tScore: 2\n",
      "File: 77_8294.npy\t\tActual: 8294\tPredicted: 8290\tScore: 1\n",
      "File: 76_0857.npy\t\tActual: 0857\tPredicted: 08\tScore: 2\n",
      "File: 31_5565.npy\t\tActual: 5565\tPredicted: 581\tScore: 3\n",
      "File: 20_7823.npy\t\tActual: 7823\tPredicted: 323\tScore: 2\n",
      "-----------------------------------\n",
      "L-Distance => 1: 28\t2: 44\t3: 14\t4+: 0\n",
      "\n",
      "Bi-directional Scan Errors\n",
      "-----------------------------------\n",
      "File: 59_1810.npy\t\tActual: 1810\tPredicted: 80\tScore: 2\n",
      "File: 49_6955.npy\t\tActual: 6955\tPredicted: 975\tScore: 2\n",
      "File: 81_8806.npy\t\tActual: 8806\tPredicted: 8306\tScore: 1\n",
      "File: 41_4071.npy\t\tActual: 4071\tPredicted: 01\tScore: 2\n",
      "File: 13_0288.npy\t\tActual: 0288\tPredicted: 0283\tScore: 1\n",
      "File: 37_8385.npy\t\tActual: 8385\tPredicted: 8355\tScore: 1\n",
      "File: 46_1044.npy\t\tActual: 1044\tPredicted: 044\tScore: 1\n",
      "File: 69_0098.npy\t\tActual: 0098\tPredicted: 0093\tScore: 1\n",
      "File: 21_4332.npy\t\tActual: 4332\tPredicted: 4732\tScore: 1\n",
      "File: 9_7229.npy\t\tActual: 7229\tPredicted: 29\tScore: 2\n",
      "File: 16_8914.npy\t\tActual: 8914\tPredicted: 894\tScore: 1\n",
      "File: 72_1129.npy\t\tActual: 1129\tPredicted: 829\tScore: 2\n",
      "File: 67_8339.npy\t\tActual: 8339\tPredicted: 839\tScore: 1\n",
      "File: 50_5256.npy\t\tActual: 5256\tPredicted: 556\tScore: 1\n",
      "File: 99_7664.npy\t\tActual: 7664\tPredicted: 7884\tScore: 2\n",
      "File: 5_8805.npy\t\tActual: 8805\tPredicted: 8305\tScore: 1\n",
      "File: 28_4259.npy\t\tActual: 4259\tPredicted: 4089\tScore: 2\n",
      "File: 85_1315.npy\t\tActual: 1315\tPredicted: 35\tScore: 2\n",
      "File: 57_1385.npy\t\tActual: 1385\tPredicted: 385\tScore: 1\n",
      "File: 74_9684.npy\t\tActual: 9684\tPredicted: 9634\tScore: 1\n",
      "File: 92_9306.npy\t\tActual: 9306\tPredicted: 9906\tScore: 1\n",
      "File: 98_8785.npy\t\tActual: 8785\tPredicted: 875\tScore: 1\n",
      "File: 70_7511.npy\t\tActual: 7511\tPredicted: 581\tScore: 2\n",
      "File: 45_2166.npy\t\tActual: 2166\tPredicted: 2366\tScore: 1\n",
      "File: 89_8129.npy\t\tActual: 8129\tPredicted: 829\tScore: 1\n",
      "File: 4_8452.npy\t\tActual: 8452\tPredicted: 8482\tScore: 1\n",
      "File: 75_2876.npy\t\tActual: 2876\tPredicted: 286\tScore: 1\n",
      "File: 48_8951.npy\t\tActual: 8951\tPredicted: 892\tScore: 2\n",
      "File: 12_7494.npy\t\tActual: 7494\tPredicted: 494\tScore: 1\n",
      "File: 62_6957.npy\t\tActual: 6957\tPredicted: 8984\tScore: 3\n",
      "File: 1_5757.npy\t\tActual: 5757\tPredicted: 5798\tScore: 2\n",
      "File: 60_0265.npy\t\tActual: 0265\tPredicted: 8268\tScore: 2\n",
      "File: 32_3543.npy\t\tActual: 3543\tPredicted: 3843\tScore: 1\n",
      "File: 61_4141.npy\t\tActual: 4141\tPredicted: 41\tScore: 2\n",
      "File: 47_4779.npy\t\tActual: 4779\tPredicted: 488\tScore: 3\n",
      "File: 43_6850.npy\t\tActual: 6850\tPredicted: 830\tScore: 2\n",
      "File: 8_9550.npy\t\tActual: 9550\tPredicted: 9370\tScore: 2\n",
      "File: 90_6009.npy\t\tActual: 6009\tPredicted: 8009\tScore: 1\n",
      "File: 56_7111.npy\t\tActual: 7111\tPredicted: 766\tScore: 3\n",
      "File: 82_2624.npy\t\tActual: 2624\tPredicted: 204\tScore: 2\n",
      "File: 0_8178.npy\t\tActual: 8178\tPredicted: 8373\tScore: 2\n",
      "File: 88_7817.npy\t\tActual: 7817\tPredicted: 88\tScore: 3\n",
      "File: 34_7391.npy\t\tActual: 7391\tPredicted: 391\tScore: 1\n",
      "File: 51_8233.npy\t\tActual: 8233\tPredicted: 824\tScore: 2\n",
      "File: 30_8751.npy\t\tActual: 8751\tPredicted: 871\tScore: 1\n",
      "File: 96_6249.npy\t\tActual: 6249\tPredicted: 49\tScore: 2\n",
      "File: 42_1729.npy\t\tActual: 1729\tPredicted: 8729\tScore: 1\n",
      "File: 84_2668.npy\t\tActual: 2668\tPredicted: 268\tScore: 1\n",
      "File: 66_9210.npy\t\tActual: 9210\tPredicted: 90\tScore: 2\n",
      "File: 14_9594.npy\t\tActual: 9594\tPredicted: 9894\tScore: 1\n",
      "File: 52_5738.npy\t\tActual: 5738\tPredicted: 538\tScore: 1\n",
      "File: 55_5958.npy\t\tActual: 5958\tPredicted: 5988\tScore: 1\n",
      "File: 65_9586.npy\t\tActual: 9586\tPredicted: 9886\tScore: 1\n",
      "File: 44_4339.npy\t\tActual: 4339\tPredicted: 4333\tScore: 1\n",
      "File: 17_8014.npy\t\tActual: 8014\tPredicted: 8044\tScore: 1\n",
      "File: 11_1070.npy\t\tActual: 1070\tPredicted: 070\tScore: 1\n",
      "File: 73_1854.npy\t\tActual: 1854\tPredicted: 684\tScore: 2\n",
      "File: 80_1585.npy\t\tActual: 1585\tPredicted: 8585\tScore: 1\n",
      "File: 38_1240.npy\t\tActual: 1240\tPredicted: 8240\tScore: 1\n",
      "File: 91_6958.npy\t\tActual: 6958\tPredicted: 998\tScore: 2\n",
      "File: 64_7816.npy\t\tActual: 7816\tPredicted: 786\tScore: 1\n",
      "File: 97_2899.npy\t\tActual: 2899\tPredicted: 599\tScore: 2\n",
      "File: 53_3220.npy\t\tActual: 3220\tPredicted: 320\tScore: 1\n",
      "File: 18_0479.npy\t\tActual: 0479\tPredicted: 0489\tScore: 1\n",
      "File: 79_2255.npy\t\tActual: 2255\tPredicted: 2095\tScore: 2\n",
      "File: 83_7195.npy\t\tActual: 7195\tPredicted: 695\tScore: 2\n",
      "File: 40_0629.npy\t\tActual: 0629\tPredicted: 0829\tScore: 1\n",
      "File: 39_6565.npy\t\tActual: 6565\tPredicted: 665\tScore: 1\n",
      "File: 19_8711.npy\t\tActual: 8711\tPredicted: 8741\tScore: 1\n",
      "File: 95_6441.npy\t\tActual: 6441\tPredicted: 8441\tScore: 1\n",
      "File: 54_3275.npy\t\tActual: 3275\tPredicted: 325\tScore: 1\n",
      "File: 27_3119.npy\t\tActual: 3119\tPredicted: 319\tScore: 1\n",
      "File: 2_5530.npy\t\tActual: 5530\tPredicted: 830\tScore: 2\n",
      "File: 6_7839.npy\t\tActual: 7839\tPredicted: 833\tScore: 2\n",
      "File: 76_0857.npy\t\tActual: 0857\tPredicted: 087\tScore: 1\n",
      "File: 31_5565.npy\t\tActual: 5565\tPredicted: 58185\tScore: 3\n",
      "File: 20_7823.npy\t\tActual: 7823\tPredicted: 323\tScore: 2\n",
      "-----------------------------------\n",
      "L-Distance => 1: 44\t2: 28\t3: 5\t4+: 0\n"
     ]
    },
    {
     "name": "stderr",
     "output_type": "stream",
     "text": [
      "\n"
     ]
    }
   ],
   "source": [
    "test_multi_char_samples(4, 'TS-A', frameskip=4, verbose=True)"
   ]
  },
  {
   "cell_type": "code",
   "execution_count": 24,
   "metadata": {},
   "outputs": [
    {
     "name": "stderr",
     "output_type": "stream",
     "text": [
      "100%|██████████| 101/101 [04:45<00:00,  2.74s/it]"
     ]
    },
    {
     "name": "stdout",
     "output_type": "stream",
     "text": [
      "-----------------------------------\n",
      "RESULTS: 4 Character || Model TS-B\n",
      "-----------------------------------\n",
      "Total Samples:  100\n",
      "Forward Accuracy: 67.85%\n",
      "Forward True:  28\n",
      "Bi-directional Accuracy: 77.35%\n",
      "Bi-directional True:  38\n",
      "Total Time: 285.65s\n",
      "Time Per Sample: 2.86s\n",
      "\n",
      "-----------------------------------\n",
      "ERROR ANALYSIS\n",
      "-----------------------------------\n",
      "\n",
      "Forward Scan Errors\n",
      "-----------------------------------\n",
      "File: 59_1810.npy\t\tActual: 1810\tPredicted: 80\tScore: 2\n",
      "File: 49_6955.npy\t\tActual: 6955\tPredicted: 95\tScore: 2\n",
      "File: 93_5787.npy\t\tActual: 5787\tPredicted: 578\tScore: 1\n",
      "File: 81_8806.npy\t\tActual: 8806\tPredicted: 8750\tScore: 3\n",
      "File: 41_4071.npy\t\tActual: 4071\tPredicted: 7\tScore: 3\n",
      "File: 21_4332.npy\t\tActual: 4332\tPredicted: 473\tScore: 2\n",
      "File: 9_7229.npy\t\tActual: 7229\tPredicted: 729\tScore: 1\n",
      "File: 16_8914.npy\t\tActual: 8914\tPredicted: 894\tScore: 1\n",
      "File: 72_1129.npy\t\tActual: 1129\tPredicted: 9\tScore: 3\n",
      "File: 67_8339.npy\t\tActual: 8339\tPredicted: 839\tScore: 1\n",
      "File: 50_5256.npy\t\tActual: 5256\tPredicted: 52\tScore: 2\n",
      "File: 99_7664.npy\t\tActual: 7664\tPredicted: 784\tScore: 2\n",
      "File: 5_8805.npy\t\tActual: 8805\tPredicted: 8355\tScore: 2\n",
      "File: 23_4334.npy\t\tActual: 4334\tPredicted: 433\tScore: 1\n",
      "File: 15_3630.npy\t\tActual: 3630\tPredicted: 36\tScore: 2\n",
      "File: 22_2487.npy\t\tActual: 2487\tPredicted: 2467\tScore: 1\n",
      "File: 28_4259.npy\t\tActual: 4259\tPredicted: 459\tScore: 1\n",
      "File: 85_1315.npy\t\tActual: 1315\tPredicted: 135\tScore: 1\n",
      "File: 57_1385.npy\t\tActual: 1385\tPredicted: 85\tScore: 2\n",
      "File: 74_9684.npy\t\tActual: 9684\tPredicted: 98\tScore: 2\n",
      "File: 92_9306.npy\t\tActual: 9306\tPredicted: 906\tScore: 1\n",
      "File: 70_7511.npy\t\tActual: 7511\tPredicted: 5\tScore: 3\n",
      "File: 45_2166.npy\t\tActual: 2166\tPredicted: \tScore: 4\n",
      "File: 89_8129.npy\t\tActual: 8129\tPredicted: 829\tScore: 1\n",
      "File: 26_5809.npy\t\tActual: 5809\tPredicted: 55709\tScore: 2\n",
      "File: 4_8452.npy\t\tActual: 8452\tPredicted: 842\tScore: 1\n",
      "File: 75_2876.npy\t\tActual: 2876\tPredicted: 28\tScore: 2\n",
      "File: 48_8951.npy\t\tActual: 8951\tPredicted: 897\tScore: 2\n",
      "File: 12_7494.npy\t\tActual: 7494\tPredicted: 749\tScore: 1\n",
      "File: 62_6957.npy\t\tActual: 6957\tPredicted: 957\tScore: 1\n",
      "File: 60_0265.npy\t\tActual: 0265\tPredicted: 06\tScore: 2\n",
      "File: 61_4141.npy\t\tActual: 4141\tPredicted: 44\tScore: 2\n",
      "File: 43_6850.npy\t\tActual: 6850\tPredicted: 80\tScore: 2\n",
      "File: 8_9550.npy\t\tActual: 9550\tPredicted: 950\tScore: 1\n",
      "File: 90_6009.npy\t\tActual: 6009\tPredicted: 809\tScore: 2\n",
      "File: 56_7111.npy\t\tActual: 7111\tPredicted: 74\tScore: 3\n",
      "File: 78_3896.npy\t\tActual: 3896\tPredicted: 389\tScore: 1\n",
      "File: 82_2624.npy\t\tActual: 2624\tPredicted: 2\tScore: 3\n",
      "File: 0_8178.npy\t\tActual: 8178\tPredicted: 858\tScore: 2\n",
      "File: 88_7817.npy\t\tActual: 7817\tPredicted: 85\tScore: 3\n",
      "File: 35_9834.npy\t\tActual: 9834\tPredicted: 983\tScore: 1\n",
      "File: 34_7391.npy\t\tActual: 7391\tPredicted: 391\tScore: 1\n",
      "File: 51_8233.npy\t\tActual: 8233\tPredicted: 87\tScore: 3\n",
      "File: 30_8751.npy\t\tActual: 8751\tPredicted: 8741\tScore: 1\n",
      "File: 96_6249.npy\t\tActual: 6249\tPredicted: 824\tScore: 2\n",
      "File: 42_1729.npy\t\tActual: 1729\tPredicted: 679\tScore: 2\n",
      "File: 29_0286.npy\t\tActual: 0286\tPredicted: 086\tScore: 1\n",
      "File: 84_2668.npy\t\tActual: 2668\tPredicted: 68\tScore: 2\n",
      "File: 66_9210.npy\t\tActual: 9210\tPredicted: 9\tScore: 3\n",
      "File: 14_9594.npy\t\tActual: 9594\tPredicted: 994\tScore: 1\n",
      "File: 52_5738.npy\t\tActual: 5738\tPredicted: 578\tScore: 1\n",
      "File: 65_9586.npy\t\tActual: 9586\tPredicted: 958\tScore: 1\n",
      "File: 44_4339.npy\t\tActual: 4339\tPredicted: 439\tScore: 1\n",
      "File: 17_8014.npy\t\tActual: 8014\tPredicted: 804\tScore: 1\n",
      "File: 11_1070.npy\t\tActual: 1070\tPredicted: 07\tScore: 2\n",
      "File: 73_1854.npy\t\tActual: 1854\tPredicted: 65\tScore: 3\n",
      "File: 80_1585.npy\t\tActual: 1585\tPredicted: 1555\tScore: 1\n",
      "File: 38_1240.npy\t\tActual: 1240\tPredicted: 40\tScore: 2\n",
      "File: 91_6958.npy\t\tActual: 6958\tPredicted: 958\tScore: 1\n",
      "File: 64_7816.npy\t\tActual: 7816\tPredicted: 782\tScore: 2\n",
      "File: 97_2899.npy\t\tActual: 2899\tPredicted: 599\tScore: 2\n",
      "File: 53_3220.npy\t\tActual: 3220\tPredicted: 32\tScore: 2\n",
      "File: 18_0479.npy\t\tActual: 0479\tPredicted: 047\tScore: 1\n",
      "File: 79_2255.npy\t\tActual: 2255\tPredicted: 255\tScore: 1\n",
      "File: 83_7195.npy\t\tActual: 7195\tPredicted: 695\tScore: 2\n",
      "File: 40_0629.npy\t\tActual: 0629\tPredicted: 89\tScore: 3\n",
      "File: 39_6565.npy\t\tActual: 6565\tPredicted: 5\tScore: 3\n",
      "File: 95_6441.npy\t\tActual: 6441\tPredicted: 544\tScore: 2\n",
      "File: 54_3275.npy\t\tActual: 3275\tPredicted: 325\tScore: 1\n",
      "File: 27_3119.npy\t\tActual: 3119\tPredicted: 80\tScore: 4\n",
      "File: 2_5530.npy\t\tActual: 5530\tPredicted: 550\tScore: 1\n",
      "File: 76_0857.npy\t\tActual: 0857\tPredicted: 087\tScore: 1\n",
      "-----------------------------------\n",
      "L-Distance => 1: 31\t2: 27\t3: 12\t4+: 2\n",
      "\n",
      "Bi-directional Scan Errors\n",
      "-----------------------------------\n",
      "File: 59_1810.npy\t\tActual: 1810\tPredicted: 870\tScore: 2\n",
      "File: 49_6955.npy\t\tActual: 6955\tPredicted: 985\tScore: 2\n",
      "File: 81_8806.npy\t\tActual: 8806\tPredicted: 8706\tScore: 1\n",
      "File: 41_4071.npy\t\tActual: 4071\tPredicted: 71\tScore: 2\n",
      "File: 37_8385.npy\t\tActual: 8385\tPredicted: 8355\tScore: 1\n",
      "File: 21_4332.npy\t\tActual: 4332\tPredicted: 4732\tScore: 1\n",
      "File: 16_8914.npy\t\tActual: 8914\tPredicted: 894\tScore: 1\n",
      "File: 72_1129.npy\t\tActual: 1129\tPredicted: 3\tScore: 4\n",
      "File: 67_8339.npy\t\tActual: 8339\tPredicted: 839\tScore: 1\n",
      "File: 99_7664.npy\t\tActual: 7664\tPredicted: 714\tScore: 2\n",
      "File: 5_8805.npy\t\tActual: 8805\tPredicted: 8305\tScore: 1\n",
      "File: 22_2487.npy\t\tActual: 2487\tPredicted: 2467\tScore: 1\n",
      "File: 28_4259.npy\t\tActual: 4259\tPredicted: 4059\tScore: 1\n",
      "File: 85_1315.npy\t\tActual: 1315\tPredicted: 135\tScore: 1\n",
      "File: 57_1385.npy\t\tActual: 1385\tPredicted: 385\tScore: 1\n",
      "File: 74_9684.npy\t\tActual: 9684\tPredicted: 984\tScore: 1\n",
      "File: 98_8785.npy\t\tActual: 8785\tPredicted: 875\tScore: 1\n",
      "File: 70_7511.npy\t\tActual: 7511\tPredicted: 51\tScore: 2\n",
      "File: 45_2166.npy\t\tActual: 2166\tPredicted: 266\tScore: 1\n",
      "File: 89_8129.npy\t\tActual: 8129\tPredicted: 829\tScore: 1\n",
      "File: 26_5809.npy\t\tActual: 5809\tPredicted: 55709\tScore: 2\n",
      "File: 4_8452.npy\t\tActual: 8452\tPredicted: 8472\tScore: 1\n",
      "File: 75_2876.npy\t\tActual: 2876\tPredicted: 286\tScore: 1\n",
      "File: 48_8951.npy\t\tActual: 8951\tPredicted: 895\tScore: 1\n",
      "File: 62_6957.npy\t\tActual: 6957\tPredicted: 987\tScore: 2\n",
      "File: 1_5757.npy\t\tActual: 5757\tPredicted: 5797\tScore: 1\n",
      "File: 87_2684.npy\t\tActual: 2684\tPredicted: 2654\tScore: 1\n",
      "File: 61_4141.npy\t\tActual: 4141\tPredicted: 44\tScore: 2\n",
      "File: 43_6850.npy\t\tActual: 6850\tPredicted: 870\tScore: 2\n",
      "File: 8_9550.npy\t\tActual: 9550\tPredicted: 9370\tScore: 2\n",
      "File: 90_6009.npy\t\tActual: 6009\tPredicted: 8009\tScore: 1\n",
      "File: 56_7111.npy\t\tActual: 7111\tPredicted: 74\tScore: 3\n",
      "File: 78_3896.npy\t\tActual: 3896\tPredicted: 3876\tScore: 1\n",
      "File: 82_2624.npy\t\tActual: 2624\tPredicted: 4\tScore: 3\n",
      "File: 0_8178.npy\t\tActual: 8178\tPredicted: 8578\tScore: 1\n",
      "File: 88_7817.npy\t\tActual: 7817\tPredicted: 87\tScore: 2\n",
      "File: 34_7391.npy\t\tActual: 7391\tPredicted: 391\tScore: 1\n",
      "File: 51_8233.npy\t\tActual: 8233\tPredicted: 84\tScore: 3\n",
      "File: 30_8751.npy\t\tActual: 8751\tPredicted: 8711\tScore: 1\n",
      "File: 96_6249.npy\t\tActual: 6249\tPredicted: 824\tScore: 2\n",
      "File: 42_1729.npy\t\tActual: 1729\tPredicted: 6729\tScore: 1\n",
      "File: 29_0286.npy\t\tActual: 0286\tPredicted: 0236\tScore: 1\n",
      "File: 84_2668.npy\t\tActual: 2668\tPredicted: 268\tScore: 1\n",
      "File: 66_9210.npy\t\tActual: 9210\tPredicted: 90\tScore: 2\n",
      "File: 14_9594.npy\t\tActual: 9594\tPredicted: 994\tScore: 1\n",
      "File: 11_1070.npy\t\tActual: 1070\tPredicted: 070\tScore: 1\n",
      "File: 73_1854.npy\t\tActual: 1854\tPredicted: 684\tScore: 2\n",
      "File: 38_1240.npy\t\tActual: 1240\tPredicted: 40\tScore: 2\n",
      "File: 91_6958.npy\t\tActual: 6958\tPredicted: 958\tScore: 1\n",
      "File: 64_7816.npy\t\tActual: 7816\tPredicted: 786\tScore: 1\n",
      "File: 97_2899.npy\t\tActual: 2899\tPredicted: 599\tScore: 2\n",
      "File: 53_3220.npy\t\tActual: 3220\tPredicted: 320\tScore: 1\n",
      "File: 18_0479.npy\t\tActual: 0479\tPredicted: 0489\tScore: 1\n",
      "File: 79_2255.npy\t\tActual: 2255\tPredicted: 2295\tScore: 1\n",
      "File: 83_7195.npy\t\tActual: 7195\tPredicted: 695\tScore: 2\n",
      "File: 40_0629.npy\t\tActual: 0629\tPredicted: 089\tScore: 2\n",
      "File: 39_6565.npy\t\tActual: 6565\tPredicted: 565\tScore: 1\n",
      "File: 95_6441.npy\t\tActual: 6441\tPredicted: 5441\tScore: 1\n",
      "File: 27_3119.npy\t\tActual: 3119\tPredicted: 814\tScore: 3\n",
      "File: 2_5530.npy\t\tActual: 5530\tPredicted: 550\tScore: 1\n",
      "File: 6_7839.npy\t\tActual: 7839\tPredicted: 7833\tScore: 1\n",
      "File: 76_0857.npy\t\tActual: 0857\tPredicted: 087\tScore: 1\n",
      "-----------------------------------\n",
      "L-Distance => 1: 39\t2: 18\t3: 4\t4+: 1\n"
     ]
    },
    {
     "name": "stderr",
     "output_type": "stream",
     "text": [
      "\n"
     ]
    }
   ],
   "source": [
    "test_multi_char_samples(4, 'TS-B', frameskip=4, verbose=True)"
   ]
  },
  {
   "cell_type": "code",
   "execution_count": 25,
   "metadata": {},
   "outputs": [
    {
     "name": "stderr",
     "output_type": "stream",
     "text": [
      "100%|██████████| 101/101 [04:22<00:00,  2.39s/it]"
     ]
    },
    {
     "name": "stdout",
     "output_type": "stream",
     "text": [
      "-----------------------------------\n",
      "RESULTS: 4 Character || Model TS-C\n",
      "-----------------------------------\n",
      "Total Samples:  100\n",
      "Forward Accuracy: 67.6%\n",
      "Forward True:  24\n",
      "Bi-directional Accuracy: 79.65%\n",
      "Bi-directional True:  43\n",
      "Total Time: 262.22s\n",
      "Time Per Sample: 2.62s\n",
      "\n",
      "-----------------------------------\n",
      "ERROR ANALYSIS\n",
      "-----------------------------------\n",
      "\n",
      "Forward Scan Errors\n",
      "-----------------------------------\n",
      "File: 59_1810.npy\t\tActual: 1810\tPredicted: 60\tScore: 3\n",
      "File: 49_6955.npy\t\tActual: 6955\tPredicted: 6975\tScore: 1\n",
      "File: 93_5787.npy\t\tActual: 5787\tPredicted: 58\tScore: 2\n",
      "File: 81_8806.npy\t\tActual: 8806\tPredicted: 8750\tScore: 3\n",
      "File: 41_4071.npy\t\tActual: 4071\tPredicted: 7\tScore: 3\n",
      "File: 63_8345.npy\t\tActual: 8345\tPredicted: 835\tScore: 1\n",
      "File: 69_0098.npy\t\tActual: 0098\tPredicted: 0096\tScore: 1\n",
      "File: 21_4332.npy\t\tActual: 4332\tPredicted: 473\tScore: 2\n",
      "File: 9_7229.npy\t\tActual: 7229\tPredicted: 769\tScore: 2\n",
      "File: 16_8914.npy\t\tActual: 8914\tPredicted: 890\tScore: 2\n",
      "File: 72_1129.npy\t\tActual: 1129\tPredicted: 9\tScore: 3\n",
      "File: 67_8339.npy\t\tActual: 8339\tPredicted: 839\tScore: 1\n",
      "File: 50_5256.npy\t\tActual: 5256\tPredicted: 52\tScore: 2\n",
      "File: 7_5745.npy\t\tActual: 5745\tPredicted: 5746\tScore: 1\n",
      "File: 23_4334.npy\t\tActual: 4334\tPredicted: 433\tScore: 1\n",
      "File: 22_2487.npy\t\tActual: 2487\tPredicted: 2087\tScore: 1\n",
      "File: 28_4259.npy\t\tActual: 4259\tPredicted: 459\tScore: 1\n",
      "File: 85_1315.npy\t\tActual: 1315\tPredicted: 135\tScore: 1\n",
      "File: 57_1385.npy\t\tActual: 1385\tPredicted: 85\tScore: 2\n",
      "File: 74_9684.npy\t\tActual: 9684\tPredicted: 98\tScore: 2\n",
      "File: 92_9306.npy\t\tActual: 9306\tPredicted: 930\tScore: 1\n",
      "File: 98_8785.npy\t\tActual: 8785\tPredicted: 878\tScore: 1\n",
      "File: 70_7511.npy\t\tActual: 7511\tPredicted: 5\tScore: 3\n",
      "File: 45_2166.npy\t\tActual: 2166\tPredicted: 66\tScore: 2\n",
      "File: 89_8129.npy\t\tActual: 8129\tPredicted: 8109\tScore: 1\n",
      "File: 26_5809.npy\t\tActual: 5809\tPredicted: 55709\tScore: 2\n",
      "File: 75_2876.npy\t\tActual: 2876\tPredicted: 28\tScore: 2\n",
      "File: 48_8951.npy\t\tActual: 8951\tPredicted: 895\tScore: 1\n",
      "File: 62_6957.npy\t\tActual: 6957\tPredicted: 95\tScore: 2\n",
      "File: 1_5757.npy\t\tActual: 5757\tPredicted: 5897\tScore: 2\n",
      "File: 60_0265.npy\t\tActual: 0265\tPredicted: 029\tScore: 2\n",
      "File: 87_2684.npy\t\tActual: 2684\tPredicted: 268\tScore: 1\n",
      "File: 32_3543.npy\t\tActual: 3543\tPredicted: 354\tScore: 1\n",
      "File: 61_4141.npy\t\tActual: 4141\tPredicted: 4\tScore: 3\n",
      "File: 47_4779.npy\t\tActual: 4779\tPredicted: 9779\tScore: 1\n",
      "File: 43_6850.npy\t\tActual: 6850\tPredicted: 83\tScore: 3\n",
      "File: 8_9550.npy\t\tActual: 9550\tPredicted: 9350\tScore: 1\n",
      "File: 90_6009.npy\t\tActual: 6009\tPredicted: 609\tScore: 1\n",
      "File: 56_7111.npy\t\tActual: 7111\tPredicted: 74\tScore: 3\n",
      "File: 78_3896.npy\t\tActual: 3896\tPredicted: 37\tScore: 3\n",
      "File: 82_2624.npy\t\tActual: 2624\tPredicted: 204\tScore: 2\n",
      "File: 0_8178.npy\t\tActual: 8178\tPredicted: 8188\tScore: 1\n",
      "File: 88_7817.npy\t\tActual: 7817\tPredicted: 85\tScore: 3\n",
      "File: 35_9834.npy\t\tActual: 9834\tPredicted: 9830\tScore: 1\n",
      "File: 34_7391.npy\t\tActual: 7391\tPredicted: 391\tScore: 1\n",
      "File: 51_8233.npy\t\tActual: 8233\tPredicted: 8\tScore: 3\n",
      "File: 30_8751.npy\t\tActual: 8751\tPredicted: 871\tScore: 1\n",
      "File: 42_1729.npy\t\tActual: 1729\tPredicted: 6729\tScore: 1\n",
      "File: 29_0286.npy\t\tActual: 0286\tPredicted: 086\tScore: 1\n",
      "File: 84_2668.npy\t\tActual: 2668\tPredicted: 68\tScore: 2\n",
      "File: 86_8094.npy\t\tActual: 8094\tPredicted: 87\tScore: 3\n",
      "File: 66_9210.npy\t\tActual: 9210\tPredicted: 96\tScore: 3\n",
      "File: 52_5738.npy\t\tActual: 5738\tPredicted: 578\tScore: 1\n",
      "File: 55_5958.npy\t\tActual: 5958\tPredicted: 5938\tScore: 1\n",
      "File: 44_4339.npy\t\tActual: 4339\tPredicted: 439\tScore: 1\n",
      "File: 17_8014.npy\t\tActual: 8014\tPredicted: 8060\tScore: 2\n",
      "File: 11_1070.npy\t\tActual: 1070\tPredicted: 070\tScore: 1\n",
      "File: 73_1854.npy\t\tActual: 1854\tPredicted: 886\tScore: 3\n",
      "File: 80_1585.npy\t\tActual: 1585\tPredicted: 1565\tScore: 1\n",
      "File: 38_1240.npy\t\tActual: 1240\tPredicted: 040\tScore: 2\n",
      "File: 91_6958.npy\t\tActual: 6958\tPredicted: 958\tScore: 1\n",
      "File: 64_7816.npy\t\tActual: 7816\tPredicted: 782\tScore: 2\n",
      "File: 97_2899.npy\t\tActual: 2899\tPredicted: 599\tScore: 2\n",
      "File: 53_3220.npy\t\tActual: 3220\tPredicted: 32\tScore: 2\n",
      "File: 18_0479.npy\t\tActual: 0479\tPredicted: 07\tScore: 2\n",
      "File: 79_2255.npy\t\tActual: 2255\tPredicted: 2055\tScore: 1\n",
      "File: 83_7195.npy\t\tActual: 7195\tPredicted: 895\tScore: 2\n",
      "File: 25_2094.npy\t\tActual: 2094\tPredicted: 2090\tScore: 1\n",
      "File: 40_0629.npy\t\tActual: 0629\tPredicted: 0829\tScore: 1\n",
      "File: 39_6565.npy\t\tActual: 6565\tPredicted: 693\tScore: 3\n",
      "File: 95_6441.npy\t\tActual: 6441\tPredicted: 644\tScore: 1\n",
      "File: 54_3275.npy\t\tActual: 3275\tPredicted: 32\tScore: 2\n",
      "File: 27_3119.npy\t\tActual: 3119\tPredicted: 318\tScore: 2\n",
      "File: 2_5530.npy\t\tActual: 5530\tPredicted: 550\tScore: 1\n",
      "File: 77_8294.npy\t\tActual: 8294\tPredicted: 8290\tScore: 1\n",
      "File: 76_0857.npy\t\tActual: 0857\tPredicted: 087\tScore: 1\n",
      "-----------------------------------\n",
      "L-Distance => 1: 37\t2: 24\t3: 15\t4+: 0\n",
      "\n",
      "Bi-directional Scan Errors\n",
      "-----------------------------------\n",
      "File: 59_1810.npy\t\tActual: 1810\tPredicted: 60\tScore: 3\n",
      "File: 49_6955.npy\t\tActual: 6955\tPredicted: 6975\tScore: 1\n",
      "File: 93_5787.npy\t\tActual: 5787\tPredicted: 587\tScore: 1\n",
      "File: 81_8806.npy\t\tActual: 8806\tPredicted: 8706\tScore: 1\n",
      "File: 41_4071.npy\t\tActual: 4071\tPredicted: 71\tScore: 2\n",
      "File: 63_8345.npy\t\tActual: 8345\tPredicted: 836\tScore: 2\n",
      "File: 37_8385.npy\t\tActual: 8385\tPredicted: 8355\tScore: 1\n",
      "File: 46_1044.npy\t\tActual: 1044\tPredicted: 1040\tScore: 1\n",
      "File: 21_4332.npy\t\tActual: 4332\tPredicted: 4736\tScore: 2\n",
      "File: 9_7229.npy\t\tActual: 7229\tPredicted: 769\tScore: 2\n",
      "File: 16_8914.npy\t\tActual: 8914\tPredicted: 894\tScore: 1\n",
      "File: 72_1129.npy\t\tActual: 1129\tPredicted: 29\tScore: 2\n",
      "File: 67_8339.npy\t\tActual: 8339\tPredicted: 839\tScore: 1\n",
      "File: 22_2487.npy\t\tActual: 2487\tPredicted: 2067\tScore: 2\n",
      "File: 85_1315.npy\t\tActual: 1315\tPredicted: 135\tScore: 1\n",
      "File: 57_1385.npy\t\tActual: 1385\tPredicted: 385\tScore: 1\n",
      "File: 74_9684.npy\t\tActual: 9684\tPredicted: 984\tScore: 1\n",
      "File: 98_8785.npy\t\tActual: 8785\tPredicted: 875\tScore: 1\n",
      "File: 70_7511.npy\t\tActual: 7511\tPredicted: 51\tScore: 2\n",
      "File: 45_2166.npy\t\tActual: 2166\tPredicted: 266\tScore: 1\n",
      "File: 26_5809.npy\t\tActual: 5809\tPredicted: 55709\tScore: 2\n",
      "File: 75_2876.npy\t\tActual: 2876\tPredicted: 286\tScore: 1\n",
      "File: 48_8951.npy\t\tActual: 8951\tPredicted: 892\tScore: 2\n",
      "File: 62_6957.npy\t\tActual: 6957\tPredicted: 94\tScore: 3\n",
      "File: 1_5757.npy\t\tActual: 5757\tPredicted: 5858\tScore: 2\n",
      "File: 60_0265.npy\t\tActual: 0265\tPredicted: 025\tScore: 1\n",
      "File: 61_4141.npy\t\tActual: 4141\tPredicted: 41\tScore: 2\n",
      "File: 47_4779.npy\t\tActual: 4779\tPredicted: 9789\tScore: 2\n",
      "File: 43_6850.npy\t\tActual: 6850\tPredicted: 870\tScore: 2\n",
      "File: 8_9550.npy\t\tActual: 9550\tPredicted: 9350\tScore: 1\n",
      "File: 56_7111.npy\t\tActual: 7111\tPredicted: 72\tScore: 3\n",
      "File: 78_3896.npy\t\tActual: 3896\tPredicted: 396\tScore: 1\n",
      "File: 82_2624.npy\t\tActual: 2624\tPredicted: 2604\tScore: 1\n",
      "File: 88_7817.npy\t\tActual: 7817\tPredicted: 87\tScore: 2\n",
      "File: 34_7391.npy\t\tActual: 7391\tPredicted: 8391\tScore: 1\n",
      "File: 51_8233.npy\t\tActual: 8233\tPredicted: 829\tScore: 2\n",
      "File: 30_8751.npy\t\tActual: 8751\tPredicted: 87511\tScore: 1\n",
      "File: 96_6249.npy\t\tActual: 6249\tPredicted: 6244\tScore: 1\n",
      "File: 42_1729.npy\t\tActual: 1729\tPredicted: 6729\tScore: 1\n",
      "File: 84_2668.npy\t\tActual: 2668\tPredicted: 68\tScore: 2\n",
      "File: 86_8094.npy\t\tActual: 8094\tPredicted: 894\tScore: 1\n",
      "File: 66_9210.npy\t\tActual: 9210\tPredicted: 9260\tScore: 1\n",
      "File: 11_1070.npy\t\tActual: 1070\tPredicted: 070\tScore: 1\n",
      "File: 73_1854.npy\t\tActual: 1854\tPredicted: 8854\tScore: 1\n",
      "File: 38_1240.npy\t\tActual: 1240\tPredicted: 1040\tScore: 1\n",
      "File: 64_7816.npy\t\tActual: 7816\tPredicted: 786\tScore: 1\n",
      "File: 97_2899.npy\t\tActual: 2899\tPredicted: 599\tScore: 2\n",
      "File: 53_3220.npy\t\tActual: 3220\tPredicted: 320\tScore: 1\n",
      "File: 18_0479.npy\t\tActual: 0479\tPredicted: 047\tScore: 1\n",
      "File: 79_2255.npy\t\tActual: 2255\tPredicted: 2056\tScore: 2\n",
      "File: 83_7195.npy\t\tActual: 7195\tPredicted: 8095\tScore: 2\n",
      "File: 40_0629.npy\t\tActual: 0629\tPredicted: 0829\tScore: 1\n",
      "File: 39_6565.npy\t\tActual: 6565\tPredicted: 6965\tScore: 1\n",
      "File: 54_3275.npy\t\tActual: 3275\tPredicted: 325\tScore: 1\n",
      "File: 27_3119.npy\t\tActual: 3119\tPredicted: 319\tScore: 1\n",
      "File: 76_0857.npy\t\tActual: 0857\tPredicted: 087\tScore: 1\n",
      "File: 31_5565.npy\t\tActual: 5565\tPredicted: 5585\tScore: 1\n",
      "-----------------------------------\n",
      "L-Distance => 1: 35\t2: 19\t3: 3\t4+: 0\n"
     ]
    },
    {
     "name": "stderr",
     "output_type": "stream",
     "text": [
      "\n"
     ]
    }
   ],
   "source": [
    "test_multi_char_samples(4, 'TS-C', frameskip=4, verbose=True)"
   ]
  },
  {
   "cell_type": "code",
   "execution_count": 26,
   "metadata": {},
   "outputs": [
    {
     "name": "stderr",
     "output_type": "stream",
     "text": [
      "100%|██████████| 101/101 [04:08<00:00,  2.09s/it]"
     ]
    },
    {
     "name": "stdout",
     "output_type": "stream",
     "text": [
      "-----------------------------------\n",
      "RESULTS: 4 Character || Model TS-D\n",
      "-----------------------------------\n",
      "Total Samples:  100\n",
      "Forward Accuracy: 71.75%\n",
      "Forward True:  33\n",
      "Bi-directional Accuracy: 81.6%\n",
      "Bi-directional True:  49\n",
      "Total Time: 248.78s\n",
      "Time Per Sample: 2.49s\n",
      "\n",
      "-----------------------------------\n",
      "ERROR ANALYSIS\n",
      "-----------------------------------\n",
      "\n",
      "Forward Scan Errors\n",
      "-----------------------------------\n",
      "File: 59_1810.npy\t\tActual: 1810\tPredicted: 60\tScore: 3\n",
      "File: 81_8806.npy\t\tActual: 8806\tPredicted: 8750\tScore: 3\n",
      "File: 41_4071.npy\t\tActual: 4071\tPredicted: 07\tScore: 2\n",
      "File: 46_1044.npy\t\tActual: 1044\tPredicted: 1040\tScore: 1\n",
      "File: 9_7229.npy\t\tActual: 7229\tPredicted: 29\tScore: 2\n",
      "File: 16_8914.npy\t\tActual: 8914\tPredicted: 890\tScore: 2\n",
      "File: 72_1129.npy\t\tActual: 1129\tPredicted: 229\tScore: 2\n",
      "File: 50_5256.npy\t\tActual: 5256\tPredicted: 52\tScore: 2\n",
      "File: 7_5745.npy\t\tActual: 5745\tPredicted: 5945\tScore: 1\n",
      "File: 99_7664.npy\t\tActual: 7664\tPredicted: 784\tScore: 2\n",
      "File: 22_2487.npy\t\tActual: 2487\tPredicted: 2467\tScore: 1\n",
      "File: 85_1315.npy\t\tActual: 1315\tPredicted: 135\tScore: 1\n",
      "File: 57_1385.npy\t\tActual: 1385\tPredicted: 985\tScore: 2\n",
      "File: 74_9684.npy\t\tActual: 9684\tPredicted: 98\tScore: 2\n",
      "File: 92_9306.npy\t\tActual: 9306\tPredicted: 930\tScore: 1\n",
      "File: 70_7511.npy\t\tActual: 7511\tPredicted: 5\tScore: 3\n",
      "File: 45_2166.npy\t\tActual: 2166\tPredicted: 66\tScore: 2\n",
      "File: 89_8129.npy\t\tActual: 8129\tPredicted: 829\tScore: 1\n",
      "File: 4_8452.npy\t\tActual: 8452\tPredicted: 8432\tScore: 1\n",
      "File: 75_2876.npy\t\tActual: 2876\tPredicted: 28\tScore: 2\n",
      "File: 62_6957.npy\t\tActual: 6957\tPredicted: 6987\tScore: 1\n",
      "File: 1_5757.npy\t\tActual: 5757\tPredicted: 5797\tScore: 1\n",
      "File: 60_0265.npy\t\tActual: 0265\tPredicted: 06\tScore: 2\n",
      "File: 87_2684.npy\t\tActual: 2684\tPredicted: 268\tScore: 1\n",
      "File: 61_4141.npy\t\tActual: 4141\tPredicted: 44\tScore: 2\n",
      "File: 47_4779.npy\t\tActual: 4779\tPredicted: 4749\tScore: 1\n",
      "File: 43_6850.npy\t\tActual: 6850\tPredicted: 685\tScore: 1\n",
      "File: 8_9550.npy\t\tActual: 9550\tPredicted: 9350\tScore: 1\n",
      "File: 90_6009.npy\t\tActual: 6009\tPredicted: 2\tScore: 4\n",
      "File: 56_7111.npy\t\tActual: 7111\tPredicted: 710\tScore: 2\n",
      "File: 78_3896.npy\t\tActual: 3896\tPredicted: 387\tScore: 2\n",
      "File: 82_2624.npy\t\tActual: 2624\tPredicted: 224\tScore: 1\n",
      "File: 0_8178.npy\t\tActual: 8178\tPredicted: 858\tScore: 2\n",
      "File: 88_7817.npy\t\tActual: 7817\tPredicted: 2\tScore: 4\n",
      "File: 35_9834.npy\t\tActual: 9834\tPredicted: 983\tScore: 1\n",
      "File: 34_7391.npy\t\tActual: 7391\tPredicted: 391\tScore: 1\n",
      "File: 51_8233.npy\t\tActual: 8233\tPredicted: 8\tScore: 3\n",
      "File: 30_8751.npy\t\tActual: 8751\tPredicted: 871\tScore: 1\n",
      "File: 96_6249.npy\t\tActual: 6249\tPredicted: 629\tScore: 1\n",
      "File: 84_2668.npy\t\tActual: 2668\tPredicted: 22\tScore: 3\n",
      "File: 86_8094.npy\t\tActual: 8094\tPredicted: 809\tScore: 1\n",
      "File: 66_9210.npy\t\tActual: 9210\tPredicted: 9\tScore: 3\n",
      "File: 14_9594.npy\t\tActual: 9594\tPredicted: 9890\tScore: 2\n",
      "File: 52_5738.npy\t\tActual: 5738\tPredicted: 578\tScore: 1\n",
      "File: 65_9586.npy\t\tActual: 9586\tPredicted: 988\tScore: 2\n",
      "File: 17_8014.npy\t\tActual: 8014\tPredicted: 8010\tScore: 1\n",
      "File: 11_1070.npy\t\tActual: 1070\tPredicted: 100\tScore: 1\n",
      "File: 73_1854.npy\t\tActual: 1854\tPredicted: 65\tScore: 3\n",
      "File: 80_1585.npy\t\tActual: 1585\tPredicted: 1555\tScore: 1\n",
      "File: 38_1240.npy\t\tActual: 1240\tPredicted: 120\tScore: 1\n",
      "File: 91_6958.npy\t\tActual: 6958\tPredicted: 958\tScore: 1\n",
      "File: 64_7816.npy\t\tActual: 7816\tPredicted: 782\tScore: 2\n",
      "File: 97_2899.npy\t\tActual: 2899\tPredicted: 299\tScore: 1\n",
      "File: 53_3220.npy\t\tActual: 3220\tPredicted: 32\tScore: 2\n",
      "File: 18_0479.npy\t\tActual: 0479\tPredicted: 079\tScore: 1\n",
      "File: 79_2255.npy\t\tActual: 2255\tPredicted: 2055\tScore: 1\n",
      "File: 83_7195.npy\t\tActual: 7195\tPredicted: 295\tScore: 2\n",
      "File: 25_2094.npy\t\tActual: 2094\tPredicted: 2090\tScore: 1\n",
      "File: 40_0629.npy\t\tActual: 0629\tPredicted: 0829\tScore: 1\n",
      "File: 39_6565.npy\t\tActual: 6565\tPredicted: 2\tScore: 4\n",
      "File: 95_6441.npy\t\tActual: 6441\tPredicted: 41\tScore: 2\n",
      "File: 54_3275.npy\t\tActual: 3275\tPredicted: 328\tScore: 2\n",
      "File: 27_3119.npy\t\tActual: 3119\tPredicted: 319\tScore: 1\n",
      "File: 2_5530.npy\t\tActual: 5530\tPredicted: 550\tScore: 1\n",
      "File: 77_8294.npy\t\tActual: 8294\tPredicted: 8290\tScore: 1\n",
      "File: 76_0857.npy\t\tActual: 0857\tPredicted: 089\tScore: 2\n",
      "File: 20_7823.npy\t\tActual: 7823\tPredicted: 783\tScore: 1\n",
      "-----------------------------------\n",
      "L-Distance => 1: 34\t2: 23\t3: 7\t4+: 3\n",
      "\n",
      "Bi-directional Scan Errors\n",
      "-----------------------------------\n",
      "File: 59_1810.npy\t\tActual: 1810\tPredicted: 60\tScore: 3\n",
      "File: 81_8806.npy\t\tActual: 8806\tPredicted: 876\tScore: 2\n",
      "File: 41_4071.npy\t\tActual: 4071\tPredicted: 071\tScore: 1\n",
      "File: 9_7229.npy\t\tActual: 7229\tPredicted: 29\tScore: 2\n",
      "File: 16_8914.npy\t\tActual: 8914\tPredicted: 894\tScore: 1\n",
      "File: 72_1129.npy\t\tActual: 1129\tPredicted: 229\tScore: 2\n",
      "File: 7_5745.npy\t\tActual: 5745\tPredicted: 5945\tScore: 1\n",
      "File: 99_7664.npy\t\tActual: 7664\tPredicted: 7884\tScore: 2\n",
      "File: 85_1315.npy\t\tActual: 1315\tPredicted: 135\tScore: 1\n",
      "File: 57_1385.npy\t\tActual: 1385\tPredicted: 9385\tScore: 1\n",
      "File: 74_9684.npy\t\tActual: 9684\tPredicted: 984\tScore: 1\n",
      "File: 98_8785.npy\t\tActual: 8785\tPredicted: 8755\tScore: 1\n",
      "File: 70_7511.npy\t\tActual: 7511\tPredicted: 511\tScore: 1\n",
      "File: 45_2166.npy\t\tActual: 2166\tPredicted: 266\tScore: 1\n",
      "File: 89_8129.npy\t\tActual: 8129\tPredicted: 809\tScore: 2\n",
      "File: 4_8452.npy\t\tActual: 8452\tPredicted: 8432\tScore: 1\n",
      "File: 75_2876.npy\t\tActual: 2876\tPredicted: 286\tScore: 1\n",
      "File: 62_6957.npy\t\tActual: 6957\tPredicted: 69974\tScore: 2\n",
      "File: 1_5757.npy\t\tActual: 5757\tPredicted: 5797\tScore: 1\n",
      "File: 87_2684.npy\t\tActual: 2684\tPredicted: 2654\tScore: 1\n",
      "File: 61_4141.npy\t\tActual: 4141\tPredicted: 44\tScore: 2\n",
      "File: 8_9550.npy\t\tActual: 9550\tPredicted: 9350\tScore: 1\n",
      "File: 90_6009.npy\t\tActual: 6009\tPredicted: 29\tScore: 3\n",
      "File: 56_7111.npy\t\tActual: 7111\tPredicted: 7101\tScore: 1\n",
      "File: 0_8178.npy\t\tActual: 8178\tPredicted: 8578\tScore: 1\n",
      "File: 88_7817.npy\t\tActual: 7817\tPredicted: 7\tScore: 3\n",
      "File: 34_7391.npy\t\tActual: 7391\tPredicted: 4391\tScore: 1\n",
      "File: 51_8233.npy\t\tActual: 8233\tPredicted: 824\tScore: 2\n",
      "File: 96_6249.npy\t\tActual: 6249\tPredicted: 629\tScore: 1\n",
      "File: 84_2668.npy\t\tActual: 2668\tPredicted: 28\tScore: 2\n",
      "File: 66_9210.npy\t\tActual: 9210\tPredicted: 900\tScore: 2\n",
      "File: 14_9594.npy\t\tActual: 9594\tPredicted: 9894\tScore: 1\n",
      "File: 55_5958.npy\t\tActual: 5958\tPredicted: 5988\tScore: 1\n",
      "File: 65_9586.npy\t\tActual: 9586\tPredicted: 9886\tScore: 1\n",
      "File: 73_1854.npy\t\tActual: 1854\tPredicted: 654\tScore: 2\n",
      "File: 38_1240.npy\t\tActual: 1240\tPredicted: 120\tScore: 1\n",
      "File: 91_6958.npy\t\tActual: 6958\tPredicted: 998\tScore: 2\n",
      "File: 64_7816.npy\t\tActual: 7816\tPredicted: 786\tScore: 1\n",
      "File: 97_2899.npy\t\tActual: 2899\tPredicted: 299\tScore: 1\n",
      "File: 53_3220.npy\t\tActual: 3220\tPredicted: 320\tScore: 1\n",
      "File: 79_2255.npy\t\tActual: 2255\tPredicted: 2095\tScore: 2\n",
      "File: 83_7195.npy\t\tActual: 7195\tPredicted: 295\tScore: 2\n",
      "File: 40_0629.npy\t\tActual: 0629\tPredicted: 089\tScore: 2\n",
      "File: 39_6565.npy\t\tActual: 6565\tPredicted: 65\tScore: 2\n",
      "File: 19_8711.npy\t\tActual: 8711\tPredicted: 871\tScore: 1\n",
      "File: 95_6441.npy\t\tActual: 6441\tPredicted: 41\tScore: 2\n",
      "File: 54_3275.npy\t\tActual: 3275\tPredicted: 325\tScore: 1\n",
      "File: 27_3119.npy\t\tActual: 3119\tPredicted: 319\tScore: 1\n",
      "File: 2_5530.npy\t\tActual: 5530\tPredicted: 550\tScore: 1\n",
      "File: 76_0857.npy\t\tActual: 0857\tPredicted: 087\tScore: 1\n",
      "File: 20_7823.npy\t\tActual: 7823\tPredicted: 783\tScore: 1\n",
      "-----------------------------------\n",
      "L-Distance => 1: 31\t2: 17\t3: 3\t4+: 0\n"
     ]
    },
    {
     "name": "stderr",
     "output_type": "stream",
     "text": [
      "\n"
     ]
    }
   ],
   "source": [
    "test_multi_char_samples(4, 'TS-D', frameskip=4, verbose=True)"
   ]
  },
  {
   "cell_type": "markdown",
   "metadata": {},
   "source": [
    "<h2>3. Frameskip Tests</h2>\n",
    "<h3>Frameskip = 1</h3>"
   ]
  },
  {
   "cell_type": "code",
   "execution_count": 27,
   "metadata": {},
   "outputs": [
    {
     "name": "stderr",
     "output_type": "stream",
     "text": [
      "100%|██████████| 101/101 [03:25<00:00,  1.52s/it]"
     ]
    },
    {
     "name": "stdout",
     "output_type": "stream",
     "text": [
      "-----------------------------------\n",
      "RESULTS: 2 Character || Model TS-D\n",
      "-----------------------------------\n",
      "Total Samples:  100\n",
      "Forward Accuracy: 87.0%\n",
      "Forward True:  75\n",
      "Bi-directional Accuracy: 95.0%\n",
      "Bi-directional True:  91\n",
      "Total Time: 205.61s\n",
      "Time Per Sample: 2.06s\n"
     ]
    },
    {
     "name": "stderr",
     "output_type": "stream",
     "text": [
      "\n"
     ]
    }
   ],
   "source": [
    "test_multi_char_samples(2, 'TS-D', frameskip=1, verbose=False)"
   ]
  },
  {
   "cell_type": "code",
   "execution_count": 28,
   "metadata": {},
   "outputs": [
    {
     "name": "stderr",
     "output_type": "stream",
     "text": [
      "100%|██████████| 101/101 [07:08<00:00,  4.10s/it]"
     ]
    },
    {
     "name": "stdout",
     "output_type": "stream",
     "text": [
      "-----------------------------------\n",
      "RESULTS: 3 Character || Model TS-D\n",
      "-----------------------------------\n",
      "Total Samples:  100\n",
      "Forward Accuracy: 82.67%\n",
      "Forward True:  55\n",
      "Bi-directional Accuracy: 78.33%\n",
      "Bi-directional True:  38\n",
      "Total Time: 428.54s\n",
      "Time Per Sample: 4.29s\n"
     ]
    },
    {
     "name": "stderr",
     "output_type": "stream",
     "text": [
      "\n"
     ]
    }
   ],
   "source": [
    "test_multi_char_samples(3, 'TS-D', frameskip=1, verbose=False)"
   ]
  },
  {
   "cell_type": "code",
   "execution_count": 29,
   "metadata": {},
   "outputs": [
    {
     "name": "stderr",
     "output_type": "stream",
     "text": [
      "100%|██████████| 101/101 [10:57<00:00,  6.91s/it]"
     ]
    },
    {
     "name": "stdout",
     "output_type": "stream",
     "text": [
      "-----------------------------------\n",
      "RESULTS: 4 Character || Model TS-D\n",
      "-----------------------------------\n",
      "Total Samples:  100\n",
      "Forward Accuracy: 75.5%\n",
      "Forward True:  37\n",
      "Bi-directional Accuracy: 82.25%\n",
      "Bi-directional True:  52\n",
      "Total Time: 657.18s\n",
      "Time Per Sample: 6.57s\n"
     ]
    },
    {
     "name": "stderr",
     "output_type": "stream",
     "text": [
      "\n"
     ]
    }
   ],
   "source": [
    "test_multi_char_samples(4, 'TS-D', frameskip=1, verbose=False)"
   ]
  },
  {
   "cell_type": "markdown",
   "metadata": {},
   "source": [
    "<h3>Frameskip = 2</h3>"
   ]
  },
  {
   "cell_type": "code",
   "execution_count": 30,
   "metadata": {},
   "outputs": [
    {
     "name": "stderr",
     "output_type": "stream",
     "text": [
      "100%|██████████| 101/101 [02:07<00:00,  1.11it/s]"
     ]
    },
    {
     "name": "stdout",
     "output_type": "stream",
     "text": [
      "-----------------------------------\n",
      "RESULTS: 2 Character || Model TS-D\n",
      "-----------------------------------\n",
      "Total Samples:  100\n",
      "Forward Accuracy: 87.0%\n",
      "Forward True:  75\n",
      "Bi-directional Accuracy: 95.5%\n",
      "Bi-directional True:  92\n",
      "Total Time: 127.06s\n",
      "Time Per Sample: 1.27s\n"
     ]
    },
    {
     "name": "stderr",
     "output_type": "stream",
     "text": [
      "\n"
     ]
    }
   ],
   "source": [
    "test_multi_char_samples(2, 'TS-D', frameskip=2, verbose=False)"
   ]
  },
  {
   "cell_type": "code",
   "execution_count": 31,
   "metadata": {},
   "outputs": [
    {
     "name": "stderr",
     "output_type": "stream",
     "text": [
      "100%|██████████| 101/101 [04:04<00:00,  2.40s/it]"
     ]
    },
    {
     "name": "stdout",
     "output_type": "stream",
     "text": [
      "-----------------------------------\n",
      "RESULTS: 3 Character || Model TS-D\n",
      "-----------------------------------\n",
      "Total Samples:  100\n",
      "Forward Accuracy: 82.83%\n",
      "Forward True:  54\n",
      "Bi-directional Accuracy: 82.0%\n",
      "Bi-directional True:  47\n",
      "Total Time: 244.16s\n",
      "Time Per Sample: 2.44s\n"
     ]
    },
    {
     "name": "stderr",
     "output_type": "stream",
     "text": [
      "\n"
     ]
    }
   ],
   "source": [
    "test_multi_char_samples(3, 'TS-D', frameskip=2, verbose=False)"
   ]
  },
  {
   "cell_type": "code",
   "execution_count": 32,
   "metadata": {},
   "outputs": [
    {
     "name": "stderr",
     "output_type": "stream",
     "text": [
      "100%|██████████| 101/101 [05:43<00:00,  3.47s/it]"
     ]
    },
    {
     "name": "stdout",
     "output_type": "stream",
     "text": [
      "-----------------------------------\n",
      "RESULTS: 4 Character || Model TS-D\n",
      "-----------------------------------\n",
      "Total Samples:  100\n",
      "Forward Accuracy: 73.25%\n",
      "Forward True:  36\n",
      "Bi-directional Accuracy: 81.5%\n",
      "Bi-directional True:  51\n",
      "Total Time: 343.91s\n",
      "Time Per Sample: 3.44s\n"
     ]
    },
    {
     "name": "stderr",
     "output_type": "stream",
     "text": [
      "\n"
     ]
    }
   ],
   "source": [
    "test_multi_char_samples(4, 'TS-D', frameskip=2, verbose=False)"
   ]
  },
  {
   "cell_type": "markdown",
   "metadata": {},
   "source": [
    "<h3>Frameskip = 4</h3>"
   ]
  },
  {
   "cell_type": "code",
   "execution_count": 33,
   "metadata": {},
   "outputs": [
    {
     "name": "stderr",
     "output_type": "stream",
     "text": [
      "100%|██████████| 101/101 [01:18<00:00,  1.50it/s]"
     ]
    },
    {
     "name": "stdout",
     "output_type": "stream",
     "text": [
      "-----------------------------------\n",
      "RESULTS: 2 Character || Model TS-D\n",
      "-----------------------------------\n",
      "Total Samples:  100\n",
      "Forward Accuracy: 84.5%\n",
      "Forward True:  69\n",
      "Bi-directional Accuracy: 96.0%\n",
      "Bi-directional True:  92\n",
      "Total Time: 78.4s\n",
      "Time Per Sample: 0.78s\n"
     ]
    },
    {
     "name": "stderr",
     "output_type": "stream",
     "text": [
      "\n"
     ]
    }
   ],
   "source": [
    "test_multi_char_samples(2, 'TS-D', frameskip=4, verbose=False)"
   ]
  },
  {
   "cell_type": "code",
   "execution_count": 34,
   "metadata": {},
   "outputs": [
    {
     "name": "stderr",
     "output_type": "stream",
     "text": [
      "100%|██████████| 101/101 [02:38<00:00,  1.64s/it]"
     ]
    },
    {
     "name": "stdout",
     "output_type": "stream",
     "text": [
      "-----------------------------------\n",
      "RESULTS: 3 Character || Model TS-D\n",
      "-----------------------------------\n",
      "Total Samples:  100\n",
      "Forward Accuracy: 82.0%\n",
      "Forward True:  55\n",
      "Bi-directional Accuracy: 83.0%\n",
      "Bi-directional True:  51\n",
      "Total Time: 158.4s\n",
      "Time Per Sample: 1.58s\n"
     ]
    },
    {
     "name": "stderr",
     "output_type": "stream",
     "text": [
      "\n"
     ]
    }
   ],
   "source": [
    "test_multi_char_samples(3, 'TS-D', frameskip=4, verbose=False)"
   ]
  },
  {
   "cell_type": "code",
   "execution_count": 35,
   "metadata": {},
   "outputs": [
    {
     "name": "stderr",
     "output_type": "stream",
     "text": [
      "100%|██████████| 101/101 [03:55<00:00,  2.06s/it]"
     ]
    },
    {
     "name": "stdout",
     "output_type": "stream",
     "text": [
      "-----------------------------------\n",
      "RESULTS: 4 Character || Model TS-D\n",
      "-----------------------------------\n",
      "Total Samples:  100\n",
      "Forward Accuracy: 71.75%\n",
      "Forward True:  33\n",
      "Bi-directional Accuracy: 81.6%\n",
      "Bi-directional True:  49\n",
      "Total Time: 235.38s\n",
      "Time Per Sample: 2.35s\n"
     ]
    },
    {
     "name": "stderr",
     "output_type": "stream",
     "text": [
      "\n"
     ]
    }
   ],
   "source": [
    "test_multi_char_samples(4, 'TS-D', frameskip=4, verbose=False)"
   ]
  },
  {
   "cell_type": "markdown",
   "metadata": {},
   "source": [
    "<h3>Frameskip = 8</h3>"
   ]
  },
  {
   "cell_type": "code",
   "execution_count": 39,
   "metadata": {},
   "outputs": [
    {
     "name": "stderr",
     "output_type": "stream",
     "text": [
      "100%|██████████| 101/101 [01:12<00:00,  1.76it/s]"
     ]
    },
    {
     "name": "stdout",
     "output_type": "stream",
     "text": [
      "-----------------------------------\n",
      "RESULTS: 2 Character || Model TS-D\n",
      "-----------------------------------\n",
      "Total Samples:  100\n",
      "Forward Accuracy: 77.5%\n",
      "Forward True:  59\n",
      "Bi-directional Accuracy: 88.83%\n",
      "Bi-directional True:  78\n",
      "Total Time: 72.65s\n",
      "Time Per Sample: 0.73s\n"
     ]
    },
    {
     "name": "stderr",
     "output_type": "stream",
     "text": [
      "\n"
     ]
    }
   ],
   "source": [
    "test_multi_char_samples(2, 'TS-D', frameskip=8, verbose=False)"
   ]
  },
  {
   "cell_type": "code",
   "execution_count": 40,
   "metadata": {},
   "outputs": [
    {
     "name": "stderr",
     "output_type": "stream",
     "text": [
      "100%|██████████| 101/101 [02:23<00:00,  2.20s/it]"
     ]
    },
    {
     "name": "stdout",
     "output_type": "stream",
     "text": [
      "-----------------------------------\n",
      "RESULTS: 3 Character || Model TS-D\n",
      "-----------------------------------\n",
      "Total Samples:  100\n",
      "Forward Accuracy: 71.67%\n",
      "Forward True:  36\n",
      "Bi-directional Accuracy: 77.1%\n",
      "Bi-directional True:  43\n",
      "Total Time: 143.33s\n",
      "Time Per Sample: 1.43s\n"
     ]
    },
    {
     "name": "stderr",
     "output_type": "stream",
     "text": [
      "\n"
     ]
    }
   ],
   "source": [
    "test_multi_char_samples(3, 'TS-D', frameskip=8, verbose=False)"
   ]
  },
  {
   "cell_type": "code",
   "execution_count": 41,
   "metadata": {},
   "outputs": [
    {
     "name": "stderr",
     "output_type": "stream",
     "text": [
      "100%|██████████| 101/101 [03:18<00:00,  2.39s/it]"
     ]
    },
    {
     "name": "stdout",
     "output_type": "stream",
     "text": [
      "-----------------------------------\n",
      "RESULTS: 4 Character || Model TS-D\n",
      "-----------------------------------\n",
      "Total Samples:  100\n",
      "Forward Accuracy: 67.5%\n",
      "Forward True:  26\n",
      "Bi-directional Accuracy: 76.65%\n",
      "Bi-directional True:  39\n",
      "Total Time: 198.27s\n",
      "Time Per Sample: 1.98s\n"
     ]
    },
    {
     "name": "stderr",
     "output_type": "stream",
     "text": [
      "\n"
     ]
    }
   ],
   "source": [
    "test_multi_char_samples(4, 'TS-D', frameskip=8, verbose=False)"
   ]
  },
  {
   "cell_type": "markdown",
   "metadata": {},
   "source": [
    "<h3>Frameskip = 12</h3>"
   ]
  },
  {
   "cell_type": "code",
   "execution_count": 9,
   "metadata": {},
   "outputs": [
    {
     "name": "stderr",
     "output_type": "stream",
     "text": [
      "100%|██████████| 101/101 [00:58<00:00,  2.03it/s]"
     ]
    },
    {
     "name": "stdout",
     "output_type": "stream",
     "text": [
      "-----------------------------------\n",
      "RESULTS: 2 Character || Model TS-D\n",
      "-----------------------------------\n",
      "Total Samples:  100\n",
      "Forward Accuracy: 72.5%\n",
      "Forward True:  51\n",
      "Bi-directional Accuracy: 81.5%\n",
      "Bi-directional True:  64\n",
      "Total Time: 58.39s\n",
      "Time Per Sample: 0.58s\n"
     ]
    },
    {
     "name": "stderr",
     "output_type": "stream",
     "text": [
      "\n"
     ]
    }
   ],
   "source": [
    "test_multi_char_samples(2, 'TS-D', frameskip=12, verbose=False)"
   ]
  },
  {
   "cell_type": "code",
   "execution_count": 10,
   "metadata": {},
   "outputs": [
    {
     "name": "stderr",
     "output_type": "stream",
     "text": [
      "100%|██████████| 101/101 [02:13<00:00,  1.36s/it]"
     ]
    },
    {
     "name": "stdout",
     "output_type": "stream",
     "text": [
      "-----------------------------------\n",
      "RESULTS: 3 Character || Model TS-D\n",
      "-----------------------------------\n",
      "Total Samples:  100\n",
      "Forward Accuracy: 63.0%\n",
      "Forward True:  23\n",
      "Bi-directional Accuracy: 69.85%\n",
      "Bi-directional True:  33\n",
      "Total Time: 132.95s\n",
      "Time Per Sample: 1.33s\n"
     ]
    },
    {
     "name": "stderr",
     "output_type": "stream",
     "text": [
      "\n"
     ]
    }
   ],
   "source": [
    "test_multi_char_samples(3, 'TS-D', frameskip=12, verbose=False)"
   ]
  },
  {
   "cell_type": "code",
   "execution_count": 11,
   "metadata": {},
   "outputs": [
    {
     "name": "stderr",
     "output_type": "stream",
     "text": [
      "100%|██████████| 101/101 [03:09<00:00,  1.78s/it]"
     ]
    },
    {
     "name": "stdout",
     "output_type": "stream",
     "text": [
      "-----------------------------------\n",
      "RESULTS: 4 Character || Model TS-D\n",
      "-----------------------------------\n",
      "Total Samples:  100\n",
      "Forward Accuracy: 59.75%\n",
      "Forward True:  17\n",
      "Bi-directional Accuracy: 68.05%\n",
      "Bi-directional True:  25\n",
      "Total Time: 189.25s\n",
      "Time Per Sample: 1.89s\n"
     ]
    },
    {
     "name": "stderr",
     "output_type": "stream",
     "text": [
      "\n"
     ]
    }
   ],
   "source": [
    "test_multi_char_samples(4, 'TS-D', frameskip=12, verbose=False)"
   ]
  }
 ],
 "metadata": {
  "kernelspec": {
   "display_name": "Python 3",
   "language": "python",
   "name": "python3"
  },
  "language_info": {
   "codemirror_mode": {
    "name": "ipython",
    "version": 3
   },
   "file_extension": ".py",
   "mimetype": "text/x-python",
   "name": "python",
   "nbconvert_exporter": "python",
   "pygments_lexer": "ipython3",
   "version": "3.7.3"
  }
 },
 "nbformat": 4,
 "nbformat_minor": 2
}
