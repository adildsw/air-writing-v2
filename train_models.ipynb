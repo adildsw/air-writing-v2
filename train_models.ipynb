{
 "cells": [
  {
   "cell_type": "code",
   "execution_count": 1,
   "metadata": {},
   "outputs": [],
   "source": [
    "import numpy\n",
    "import json\n",
    "\n",
    "import logging\n",
    "logging.getLogger('tensorflow').disabled = True\n",
    "\n",
    "import tensorflow as tf\n",
    "from tensorflow.keras.models import Sequential\n",
    "from tensorflow.keras.layers import Dense, Dropout, LSTM"
   ]
  },
  {
   "cell_type": "code",
   "execution_count": 2,
   "metadata": {},
   "outputs": [],
   "source": [
    "TS_DIR = 'training_sets/'"
   ]
  },
  {
   "cell_type": "code",
   "execution_count": 3,
   "metadata": {},
   "outputs": [],
   "source": [
    "def load_ts(ts='TS-D'):\n",
    "    x_train = numpy.load('{}{}/x_train.npy'.format(TS_DIR, ts))\n",
    "    x_test = numpy.load('{}{}/x_test.npy'.format(TS_DIR, ts))\n",
    "    y_train = numpy.load('{}{}/y_train.npy'.format(TS_DIR, ts))\n",
    "    y_test = numpy.load('{}{}/y_test.npy'.format(TS_DIR, ts))\n",
    "    \n",
    "    return (x_train, y_train), (x_test, y_test)"
   ]
  },
  {
   "cell_type": "code",
   "execution_count": 4,
   "metadata": {},
   "outputs": [],
   "source": [
    "def train_model(ts='TS-D', epochs=5):\n",
    "    (x_train, y_train), (x_test, y_test) = load_ts(ts)\n",
    "    \n",
    "    #Normalizing Data\n",
    "    x_train = x_train/255.0\n",
    "    x_test = x_test/255.0\n",
    "    \n",
    "    #Counting Total Class in Training Set\n",
    "    class_count = len(set(y_test))\n",
    "    \n",
    "    #Model\n",
    "    model = Sequential()\n",
    "    model.add(LSTM(128, input_shape=(x_train.shape[1:]), activation='relu', return_sequences=True))\n",
    "    model.add(Dropout(0.2))\n",
    "    model.add(LSTM(128, activation='relu'))\n",
    "    model.add(Dropout(0.2))\n",
    "    model.add(Dense(32, activation='relu'))\n",
    "    model.add(Dropout(0.2))\n",
    "    model.add(Dense(class_count, activation='softmax'))\n",
    "    \n",
    "    opt = tf.keras.optimizers.Adam(lr=1e-3, decay=1e-5)\n",
    "    \n",
    "    model.compile(loss='sparse_categorical_crossentropy', optimizer=opt, metrics=['accuracy'])\n",
    "    \n",
    "    history = model.fit(x_train, y_train, epochs=epochs, validation_data=(x_test, y_test))\n",
    "    \n",
    "    return model, history"
   ]
  },
  {
   "cell_type": "code",
   "execution_count": 5,
   "metadata": {
    "scrolled": true
   },
   "outputs": [],
   "source": [
    "def create_model(ts, epochs=5):\n",
    "    model, history = train_model(ts, epochs)\n",
    "\n",
    "    #Saving Model and Training History\n",
    "    model.save('models/{}.model'.format(ts))\n",
    "    with open('tests/training_history/{}_history.json'.format(ts), 'w') as h_file:\n",
    "        json.dump(str(history.history), h_file)"
   ]
  },
  {
   "cell_type": "code",
   "execution_count": 11,
   "metadata": {},
   "outputs": [
    {
     "name": "stdout",
     "output_type": "stream",
     "text": [
      "Train on 2400 samples, validate on 400 samples\n",
      "Epoch 1/30\n",
      "2400/2400 [==============================] - 5s 2ms/sample - loss: 0.6191 - acc: 0.6888 - val_loss: 0.5202 - val_acc: 0.7525\n",
      "Epoch 2/30\n",
      "2400/2400 [==============================] - 3s 1ms/sample - loss: 0.5162 - acc: 0.7604 - val_loss: 0.4555 - val_acc: 0.8025\n",
      "Epoch 3/30\n",
      "2400/2400 [==============================] - 3s 1ms/sample - loss: 0.4810 - acc: 0.7900 - val_loss: 0.5220 - val_acc: 0.7850\n",
      "Epoch 4/30\n",
      "2400/2400 [==============================] - 3s 1ms/sample - loss: 0.4566 - acc: 0.8029 - val_loss: 0.4706 - val_acc: 0.8325\n",
      "Epoch 5/30\n",
      "2400/2400 [==============================] - 3s 1ms/sample - loss: 0.3922 - acc: 0.8371 - val_loss: 0.3900 - val_acc: 0.8475\n",
      "Epoch 6/30\n",
      "2400/2400 [==============================] - 3s 1ms/sample - loss: 0.3382 - acc: 0.8667 - val_loss: 0.3725 - val_acc: 0.8400\n",
      "Epoch 7/30\n",
      "2400/2400 [==============================] - 3s 1ms/sample - loss: 0.3372 - acc: 0.8642 - val_loss: 0.3328 - val_acc: 0.8575\n",
      "Epoch 8/30\n",
      "2400/2400 [==============================] - 3s 1ms/sample - loss: 0.4169 - acc: 0.8279 - val_loss: 0.4001 - val_acc: 0.8325\n",
      "Epoch 9/30\n",
      "2400/2400 [==============================] - 3s 1ms/sample - loss: 0.3660 - acc: 0.8467 - val_loss: 0.3792 - val_acc: 0.8475\n",
      "Epoch 10/30\n",
      "2400/2400 [==============================] - 3s 1ms/sample - loss: 0.3100 - acc: 0.8779 - val_loss: 0.3568 - val_acc: 0.8650\n",
      "Epoch 11/30\n",
      "2400/2400 [==============================] - 4s 1ms/sample - loss: 0.2800 - acc: 0.8858 - val_loss: 0.5549 - val_acc: 0.8650\n",
      "Epoch 12/30\n",
      "2400/2400 [==============================] - 3s 1ms/sample - loss: 0.2948 - acc: 0.8813 - val_loss: 0.4623 - val_acc: 0.8750\n",
      "Epoch 13/30\n",
      "2400/2400 [==============================] - 3s 1ms/sample - loss: 0.4385 - acc: 0.8438 - val_loss: 0.3861 - val_acc: 0.8450\n",
      "Epoch 14/30\n",
      "2400/2400 [==============================] - 3s 1ms/sample - loss: 0.3378 - acc: 0.8571 - val_loss: 0.3434 - val_acc: 0.8700\n",
      "Epoch 15/30\n",
      "2400/2400 [==============================] - 3s 1ms/sample - loss: 0.3032 - acc: 0.8721 - val_loss: 0.3335 - val_acc: 0.8750\n",
      "Epoch 16/30\n",
      "2400/2400 [==============================] - 3s 1ms/sample - loss: 0.4481 - acc: 0.8829 - val_loss: 0.3325 - val_acc: 0.8675\n",
      "Epoch 17/30\n",
      "2400/2400 [==============================] - 3s 1ms/sample - loss: 0.2870 - acc: 0.8754 - val_loss: 0.3060 - val_acc: 0.8850\n",
      "Epoch 18/30\n",
      "2400/2400 [==============================] - 3s 1ms/sample - loss: 0.2563 - acc: 0.8933 - val_loss: 0.3164 - val_acc: 0.8825\n",
      "Epoch 19/30\n",
      "2400/2400 [==============================] - 3s 1ms/sample - loss: 0.2516 - acc: 0.8975 - val_loss: 0.2716 - val_acc: 0.8825\n",
      "Epoch 20/30\n",
      "2400/2400 [==============================] - 3s 1ms/sample - loss: 0.2144 - acc: 0.9096 - val_loss: 0.3326 - val_acc: 0.8875\n",
      "Epoch 21/30\n",
      "2400/2400 [==============================] - 3s 1ms/sample - loss: 0.2242 - acc: 0.9054 - val_loss: 0.2829 - val_acc: 0.8875\n",
      "Epoch 22/30\n",
      "2400/2400 [==============================] - 3s 1ms/sample - loss: 0.2066 - acc: 0.9150 - val_loss: 0.2912 - val_acc: 0.8825\n",
      "Epoch 23/30\n",
      "2400/2400 [==============================] - 3s 1ms/sample - loss: 0.1979 - acc: 0.9171 - val_loss: 0.2671 - val_acc: 0.8900\n",
      "Epoch 24/30\n",
      "2400/2400 [==============================] - 3s 1ms/sample - loss: 0.1860 - acc: 0.9242 - val_loss: 0.2499 - val_acc: 0.9050\n",
      "Epoch 25/30\n",
      "2400/2400 [==============================] - 3s 1ms/sample - loss: 0.1792 - acc: 0.9312 - val_loss: 0.3197 - val_acc: 0.8850\n",
      "Epoch 26/30\n",
      "2400/2400 [==============================] - 3s 1ms/sample - loss: 0.1741 - acc: 0.9267 - val_loss: 0.3085 - val_acc: 0.9050\n",
      "Epoch 27/30\n",
      "2400/2400 [==============================] - 3s 1ms/sample - loss: 0.1579 - acc: 0.9367 - val_loss: 0.2652 - val_acc: 0.9025\n",
      "Epoch 28/30\n",
      "2400/2400 [==============================] - 3s 1ms/sample - loss: 0.1250 - acc: 0.9546 - val_loss: 0.2513 - val_acc: 0.9175\n",
      "Epoch 29/30\n",
      "2400/2400 [==============================] - 3s 1ms/sample - loss: 0.1491 - acc: 0.9392 - val_loss: 0.2759 - val_acc: 0.9025\n",
      "Epoch 30/30\n",
      "2400/2400 [==============================] - 3s 1ms/sample - loss: 0.1337 - acc: 0.9467 - val_loss: 0.3205 - val_acc: 0.9100\n"
     ]
    }
   ],
   "source": [
    "create_model('NZ-2', epochs=30)"
   ]
  },
  {
   "cell_type": "code",
   "execution_count": 30,
   "metadata": {},
   "outputs": [
    {
     "name": "stdout",
     "output_type": "stream",
     "text": [
      "Train on 60000 samples, validate on 14560 samples\n",
      "Epoch 1/5\n",
      "60000/60000 [==============================] - 73s 1ms/sample - loss: 0.8343 - acc: 0.7165 - val_loss: 0.5917 - val_acc: 0.8754\n",
      "Epoch 2/5\n",
      "60000/60000 [==============================] - 76s 1ms/sample - loss: 0.1844 - acc: 0.9497 - val_loss: 0.3106 - val_acc: 0.9233\n",
      "Epoch 3/5\n",
      "60000/60000 [==============================] - 77s 1ms/sample - loss: 0.1232 - acc: 0.9676 - val_loss: 0.3164 - val_acc: 0.9240\n",
      "Epoch 4/5\n",
      "60000/60000 [==============================] - 77s 1ms/sample - loss: 0.0949 - acc: 0.9749 - val_loss: 0.4014 - val_acc: 0.9331\n",
      "Epoch 5/5\n",
      "60000/60000 [==============================] - 75s 1ms/sample - loss: 0.0771 - acc: 0.9796 - val_loss: 0.6625 - val_acc: 0.9398\n"
     ]
    }
   ],
   "source": [
    "create_model('TS-A')"
   ]
  },
  {
   "cell_type": "code",
   "execution_count": 31,
   "metadata": {},
   "outputs": [
    {
     "name": "stdout",
     "output_type": "stream",
     "text": [
      "Train on 62560 samples, validate on 14560 samples\n",
      "Epoch 1/5\n",
      "62560/62560 [==============================] - 76s 1ms/sample - loss: 0.8196 - acc: 0.7273 - val_loss: 0.2784 - val_acc: 0.9224\n",
      "Epoch 2/5\n",
      "62560/62560 [==============================] - 74s 1ms/sample - loss: 0.1902 - acc: 0.9498 - val_loss: 0.1945 - val_acc: 0.9438\n",
      "Epoch 3/5\n",
      "62560/62560 [==============================] - 80s 1ms/sample - loss: 0.1231 - acc: 0.9671 - val_loss: 0.1350 - val_acc: 0.9617\n",
      "Epoch 4/5\n",
      "62560/62560 [==============================] - 78s 1ms/sample - loss: 0.0956 - acc: 0.9745 - val_loss: 0.1295 - val_acc: 0.9648\n",
      "Epoch 5/5\n",
      "62560/62560 [==============================] - 76s 1ms/sample - loss: 0.0863 - acc: 0.9770 - val_loss: 0.1085 - val_acc: 0.9701\n"
     ]
    }
   ],
   "source": [
    "create_model('TS-B')"
   ]
  },
  {
   "cell_type": "code",
   "execution_count": 7,
   "metadata": {},
   "outputs": [
    {
     "name": "stdout",
     "output_type": "stream",
     "text": [
      "Train on 70000 samples, validate on 14560 samples\n",
      "Epoch 1/5\n",
      "70000/70000 [==============================] - 132s 2ms/sample - loss: 0.6133 - acc: 0.8009 - val_loss: 0.2216 - val_acc: 0.9366\n",
      "Epoch 2/5\n",
      "70000/70000 [==============================] - 136s 2ms/sample - loss: 0.1628 - acc: 0.9559 - val_loss: 0.2326 - val_acc: 0.9412\n",
      "Epoch 3/5\n",
      "70000/70000 [==============================] - 132s 2ms/sample - loss: 0.1114 - acc: 0.9702 - val_loss: 0.1605 - val_acc: 0.9613\n",
      "Epoch 4/5\n",
      "70000/70000 [==============================] - 130s 2ms/sample - loss: 0.0851 - acc: 0.9769 - val_loss: 0.1292 - val_acc: 0.9651\n",
      "Epoch 5/5\n",
      "70000/70000 [==============================] - 130s 2ms/sample - loss: 0.0839 - acc: 0.9780 - val_loss: 0.2552 - val_acc: 0.9481\n"
     ]
    }
   ],
   "source": [
    "create_model('TS-C')"
   ]
  },
  {
   "cell_type": "code",
   "execution_count": 11,
   "metadata": {},
   "outputs": [
    {
     "name": "stdout",
     "output_type": "stream",
     "text": [
      "Train on 72560 samples, validate on 14560 samples\n",
      "Epoch 1/5\n",
      "72560/72560 [==============================] - 125s 2ms/sample - loss: 0.6321 - acc: 0.7936 - val_loss: 0.1996 - val_acc: 0.9442\n",
      "Epoch 2/5\n",
      "72560/72560 [==============================] - 142s 2ms/sample - loss: 0.1547 - acc: 0.9591 - val_loss: 0.1214 - val_acc: 0.9610\n",
      "Epoch 3/5\n",
      "72560/72560 [==============================] - 142s 2ms/sample - loss: 0.1019 - acc: 0.9737 - val_loss: 0.1063 - val_acc: 0.9684\n",
      "Epoch 4/5\n",
      "72560/72560 [==============================] - 154s 2ms/sample - loss: 0.0809 - acc: 0.9789 - val_loss: 0.0775 - val_acc: 0.9784\n",
      "Epoch 5/5\n",
      "72560/72560 [==============================] - 149s 2ms/sample - loss: 0.0657 - acc: 0.9827 - val_loss: 0.0702 - val_acc: 0.9802\n"
     ]
    }
   ],
   "source": [
    "create_model('TS-D')"
   ]
  }
 ],
 "metadata": {
  "kernelspec": {
   "display_name": "Python 3",
   "language": "python",
   "name": "python3"
  },
  "language_info": {
   "codemirror_mode": {
    "name": "ipython",
    "version": 3
   },
   "file_extension": ".py",
   "mimetype": "text/x-python",
   "name": "python",
   "nbconvert_exporter": "python",
   "pygments_lexer": "ipython3",
   "version": "3.7.3"
  }
 },
 "nbformat": 4,
 "nbformat_minor": 2
}
